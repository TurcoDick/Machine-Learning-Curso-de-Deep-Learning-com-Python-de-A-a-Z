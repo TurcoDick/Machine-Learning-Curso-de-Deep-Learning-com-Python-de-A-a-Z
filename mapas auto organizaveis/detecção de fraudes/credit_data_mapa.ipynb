{
 "cells": [
  {
   "cell_type": "code",
   "execution_count": 1,
   "metadata": {},
   "outputs": [],
   "source": [
    "from minisom import MiniSom\n",
    "import pandas as pd\n",
    "import numpy as np\n",
    "from sklearn.preprocessing import MinMaxScaler"
   ]
  },
  {
   "cell_type": "code",
   "execution_count": 2,
   "metadata": {},
   "outputs": [],
   "source": [
    "base = pd.read_csv(\"../../datasets/credit-data.csv\")"
   ]
  },
  {
   "cell_type": "code",
   "execution_count": 3,
   "metadata": {},
   "outputs": [
    {
     "data": {
      "text/html": [
       "<div>\n",
       "<style scoped>\n",
       "    .dataframe tbody tr th:only-of-type {\n",
       "        vertical-align: middle;\n",
       "    }\n",
       "\n",
       "    .dataframe tbody tr th {\n",
       "        vertical-align: top;\n",
       "    }\n",
       "\n",
       "    .dataframe thead th {\n",
       "        text-align: right;\n",
       "    }\n",
       "</style>\n",
       "<table border=\"1\" class=\"dataframe\">\n",
       "  <thead>\n",
       "    <tr style=\"text-align: right;\">\n",
       "      <th></th>\n",
       "      <th>clientid</th>\n",
       "      <th>income</th>\n",
       "      <th>age</th>\n",
       "      <th>loan</th>\n",
       "      <th>default</th>\n",
       "    </tr>\n",
       "  </thead>\n",
       "  <tbody>\n",
       "    <tr>\n",
       "      <th>0</th>\n",
       "      <td>1</td>\n",
       "      <td>66155.925095</td>\n",
       "      <td>59.017015</td>\n",
       "      <td>8106.532131</td>\n",
       "      <td>0</td>\n",
       "    </tr>\n",
       "    <tr>\n",
       "      <th>1</th>\n",
       "      <td>2</td>\n",
       "      <td>34415.153966</td>\n",
       "      <td>48.117153</td>\n",
       "      <td>6564.745018</td>\n",
       "      <td>0</td>\n",
       "    </tr>\n",
       "    <tr>\n",
       "      <th>2</th>\n",
       "      <td>3</td>\n",
       "      <td>57317.170063</td>\n",
       "      <td>63.108049</td>\n",
       "      <td>8020.953296</td>\n",
       "      <td>0</td>\n",
       "    </tr>\n",
       "    <tr>\n",
       "      <th>3</th>\n",
       "      <td>4</td>\n",
       "      <td>42709.534201</td>\n",
       "      <td>45.751972</td>\n",
       "      <td>6103.642260</td>\n",
       "      <td>0</td>\n",
       "    </tr>\n",
       "    <tr>\n",
       "      <th>4</th>\n",
       "      <td>5</td>\n",
       "      <td>66952.688845</td>\n",
       "      <td>18.584336</td>\n",
       "      <td>8770.099235</td>\n",
       "      <td>1</td>\n",
       "    </tr>\n",
       "  </tbody>\n",
       "</table>\n",
       "</div>"
      ],
      "text/plain": [
       "   clientid        income        age         loan  default\n",
       "0         1  66155.925095  59.017015  8106.532131        0\n",
       "1         2  34415.153966  48.117153  6564.745018        0\n",
       "2         3  57317.170063  63.108049  8020.953296        0\n",
       "3         4  42709.534201  45.751972  6103.642260        0\n",
       "4         5  66952.688845  18.584336  8770.099235        1"
      ]
     },
     "execution_count": 3,
     "metadata": {},
     "output_type": "execute_result"
    }
   ],
   "source": [
    "# default significa aprovado ou não. (1 = desaprovado, e 0 = aprovado)\n",
    "base.head()"
   ]
  },
  {
   "cell_type": "code",
   "execution_count": 4,
   "metadata": {},
   "outputs": [],
   "source": [
    "# apagando os registros nulos\n",
    "base = base.dropna() "
   ]
  },
  {
   "cell_type": "code",
   "execution_count": 5,
   "metadata": {},
   "outputs": [
    {
     "data": {
      "text/plain": [
       "15   -28.218361\n",
       "21   -52.423280\n",
       "26   -36.496976\n",
       "Name: age, dtype: float64"
      ]
     },
     "execution_count": 5,
     "metadata": {},
     "output_type": "execute_result"
    }
   ],
   "source": [
    "base.loc[base.age < 0, \"age\"]"
   ]
  },
  {
   "cell_type": "code",
   "execution_count": 6,
   "metadata": {},
   "outputs": [],
   "source": [
    "base.loc[base.age < 0, \"age\"] = round(base.age.mean())"
   ]
  },
  {
   "cell_type": "code",
   "execution_count": 7,
   "metadata": {},
   "outputs": [],
   "source": [
    "X = base.iloc[:, 0:4].values"
   ]
  },
  {
   "cell_type": "code",
   "execution_count": 8,
   "metadata": {},
   "outputs": [],
   "source": [
    "y = base.iloc[:,4].values"
   ]
  },
  {
   "cell_type": "code",
   "execution_count": 9,
   "metadata": {},
   "outputs": [],
   "source": [
    "normalizador = MinMaxScaler(feature_range=(0,1))"
   ]
  },
  {
   "cell_type": "code",
   "execution_count": 10,
   "metadata": {},
   "outputs": [],
   "source": [
    "X = normalizador.fit_transform(X)"
   ]
  },
  {
   "cell_type": "code",
   "execution_count": 11,
   "metadata": {},
   "outputs": [
    {
     "data": {
      "text/plain": [
       "array([[0.00000000e+00, 9.23175898e-01, 8.92091749e-01, 5.88837391e-01],\n",
       "       [5.00250125e-04, 2.88121646e-01, 6.54707879e-01, 4.76826954e-01],\n",
       "       [1.00050025e-03, 7.46334292e-01, 9.81188803e-01, 5.82620111e-01],\n",
       "       ...,\n",
       "       [9.98999500e-01, 4.86122016e-01, 2.16958067e-01, 4.01128949e-01],\n",
       "       [9.99499750e-01, 4.75009983e-01, 1.00000000e+00, 1.17790295e-01],\n",
       "       [1.00000000e+00, 9.88813673e-01, 8.29709134e-01, 5.35970280e-01]])"
      ]
     },
     "execution_count": 11,
     "metadata": {},
     "output_type": "execute_result"
    }
   ],
   "source": [
    "X"
   ]
  },
  {
   "cell_type": "code",
   "execution_count": 12,
   "metadata": {},
   "outputs": [],
   "source": [
    "som = MiniSom(x = 15, y = 15, input_len = 4, random_seed=0)\n",
    "som.random_weights_init(X)\n",
    "som.train_random(data = X, num_iteration = 100)"
   ]
  },
  {
   "cell_type": "code",
   "execution_count": 13,
   "metadata": {},
   "outputs": [],
   "source": [
    "from pylab import pcolor, colorbar, plot"
   ]
  },
  {
   "cell_type": "code",
   "execution_count": 14,
   "metadata": {},
   "outputs": [
    {
     "data": {
      "text/plain": [
       "<matplotlib.colorbar.Colorbar at 0x7f7517137f60>"
      ]
     },
     "execution_count": 14,
     "metadata": {},
     "output_type": "execute_result"
    },
    {
     "data": {
      "image/png": "[encoded data removed]",
      "text/plain": [
       "<Figure size 432x288 with 2 Axes>"
      ]
     },
     "metadata": {
      "needs_background": "light"
     },
     "output_type": "display_data"
    }
   ],
   "source": [
    "# os pontos mais claros são os outliders, eles representam as pessoas que possuem caracteristicas muito\n",
    "# distantes das demais, oque pode significar que podem ser más pagadoras\n",
    "\n",
    "pcolor(som.distance_map().T)\n",
    "colorbar()"
   ]
  },
  {
   "cell_type": "code",
   "execution_count": 15,
   "metadata": {},
   "outputs": [
    {
     "data": {
      "image/png": "[encoded data removed]",
      "text/plain": [
       "<Figure size 432x288 with 2 Axes>"
      ]
     },
     "metadata": {
      "needs_background": "light"
     },
     "output_type": "display_data"
    }
   ],
   "source": [
    "markers = ['o','s']\n",
    "color = ['r','g']\n",
    "pcolor(som.distance_map().T)\n",
    "colorbar()\n",
    "for i, item in enumerate(X):\n",
    "    w = som.winner(item)\n",
    "    plot(w[0] + 0.5 , w[1] + 0.5, markers[y[i]],\n",
    "        markerfacecolor = 'None', markersize = 10,\n",
    "        markeredgecolor = color[y[i]], markeredgewidth = 2)"
   ]
  },
  {
   "cell_type": "code",
   "execution_count": 16,
   "metadata": {
    "scrolled": true
   },
   "outputs": [
    {
     "data": {
      "text/plain": [
       "array([[0.002001  , 0.93911717, 0.0115241 , 0.63704537],\n",
       "       [0.03551776, 0.37114843, 0.0688488 , 0.40704143],\n",
       "       [0.04252126, 0.49850557, 0.03750707, 0.55990706],\n",
       "       [0.04352176, 0.15202568, 0.02520351, 0.10986432],\n",
       "       [0.04902451, 0.67199918, 0.04759569, 0.69743738],\n",
       "       [0.07003502, 0.50673027, 0.09831693, 0.47395536],\n",
       "       [0.08954477, 0.37236289, 0.03429803, 0.42392475],\n",
       "       [0.09204602, 0.82337536, 0.05506598, 0.75521155],\n",
       "       [0.09254627, 0.89243913, 0.17394369, 0.70494986],\n",
       "       [0.11255628, 0.76243032, 0.20137837, 0.54703249],\n",
       "       [0.11405703, 0.89566582, 0.04732302, 0.61033325],\n",
       "       [0.11455728, 0.91182119, 0.10590991, 0.57236087],\n",
       "       [0.11755878, 0.72532642, 0.09649989, 0.53236755],\n",
       "       [0.13756878, 0.84579909, 0.16436284, 0.77413594],\n",
       "       [0.14757379, 0.75574574, 0.09995252, 0.46048845],\n",
       "       [0.14857429, 0.63865401, 0.07492533, 0.41033119],\n",
       "       [0.15257629, 0.60955851, 0.19655638, 0.64148319],\n",
       "       [0.15307654, 0.47903738, 0.06728852, 0.39339692],\n",
       "       [0.15407704, 0.80307897, 0.04890761, 0.47011426],\n",
       "       [0.16508254, 0.40978944, 0.04465204, 0.35113264],\n",
       "       [0.17108554, 0.84230157, 0.21406692, 0.86650309],\n",
       "       [0.17658829, 0.53404023, 0.01688164, 0.51456984],\n",
       "       [0.1805903 , 0.92189503, 0.13391565, 0.63511365],\n",
       "       [0.20110055, 0.76157976, 0.01323787, 0.83828128],\n",
       "       [0.2026013 , 0.96303153, 0.10735127, 0.89404116],\n",
       "       [0.2136068 , 0.71200342, 0.01715729, 0.76515273],\n",
       "       [0.2166083 , 0.70544101, 0.16031678, 0.74695704],\n",
       "       [0.22011006, 0.98899514, 0.23440506, 0.77314049],\n",
       "       [0.22611306, 0.87311537, 0.2060296 , 0.64405084],\n",
       "       [0.24012006, 0.92105528, 0.24523978, 0.95689183],\n",
       "       [0.24612306, 0.68460173, 0.07010584, 0.73774104],\n",
       "       [0.24762381, 0.55686995, 0.18722309, 0.61698803],\n",
       "       [0.25012506, 0.9879841 , 0.12841106, 0.80251134],\n",
       "       [0.25812906, 0.92013545, 0.32707831, 0.81412156],\n",
       "       [0.25962981, 0.89831492, 0.18971617, 0.71051079],\n",
       "       [0.26713357, 0.75179861, 0.03140289, 0.55758191],\n",
       "       [0.29264632, 0.76641462, 0.04796558, 0.72883051],\n",
       "       [0.32316158, 0.97397336, 0.10946429, 0.92486879],\n",
       "       [0.32466233, 0.75654799, 0.12888103, 0.78573468],\n",
       "       [0.3841921 , 0.16749827, 0.2846496 , 0.12478074],\n",
       "       [0.6128064 , 0.12132011, 0.29949277, 0.26622522],\n",
       "       [0.62381191, 0.23425293, 0.36580727, 0.20896816],\n",
       "       [0.68684342, 0.22773318, 0.36896221, 0.27010103],\n",
       "       [0.69384692, 0.18797702, 0.51299975, 0.246078  ],\n",
       "       [0.74337169, 0.19388462, 0.51787251, 0.13882112],\n",
       "       [0.77238619, 0.1665946 , 0.47709492, 0.16323419],\n",
       "       [0.7893947 , 0.19678356, 0.47637526, 0.26717103],\n",
       "       [0.78989495, 0.1812214 , 0.44473451, 0.11537221],\n",
       "       [0.80990495, 0.26299346, 0.52895871, 0.15504578],\n",
       "       [0.81990995, 0.3014713 , 0.5030533 , 0.21192657],\n",
       "       [0.82941471, 0.27912566, 0.56314174, 0.22685036],\n",
       "       [0.88944472, 0.32022698, 0.5399022 , 0.2169746 ],\n",
       "       [0.90895448, 0.27210243, 0.61890229, 0.35136393],\n",
       "       [0.91595798, 0.19478936, 0.59867809, 0.26347224],\n",
       "       [0.92696348, 0.37108865, 0.60598211, 0.3508789 ],\n",
       "       [0.97098549, 0.42042647, 0.58185368, 0.31732254],\n",
       "       [0.97248624, 0.31741999, 0.50129458, 0.38751561],\n",
       "       [0.97998999, 0.37495448, 0.83412605, 0.30826161],\n",
       "       [0.99049525, 0.40459981, 0.75191932, 0.31623974]])"
      ]
     },
     "execution_count": 16,
     "metadata": {},
     "output_type": "execute_result"
    }
   ],
   "source": [
    "mapeamento = som.win_map(X)\n",
    "suspeitos = np.concatenate((mapeamento[13,9], mapeamento[(1,10)]), axis = 0)\n",
    "suspeitos"
   ]
  },
  {
   "cell_type": "code",
   "execution_count": 17,
   "metadata": {
    "scrolled": true
   },
   "outputs": [
    {
     "data": {
      "text/plain": [
       "array([[5.00000000e+00, 6.69526888e+04, 1.85843359e+01, 8.77009924e+03],\n",
       "       [7.20000000e+01, 3.85649321e+04, 2.12164917e+01, 5.60416999e+03],\n",
       "       [8.60000000e+01, 4.49303942e+04, 1.97773858e+01, 7.70831562e+03],\n",
       "       [8.80000000e+01, 2.76129148e+04, 1.92124482e+01, 1.51362420e+03],\n",
       "       [9.90000000e+01, 5.36018124e+04, 2.02406213e+01, 9.60137548e+03],\n",
       "       [1.41000000e+02, 4.53414746e+04, 2.25695684e+01, 6.52521842e+03],\n",
       "       [1.80000000e+02, 3.86256320e+04, 1.96300378e+01, 5.83656338e+03],\n",
       "       [1.85000000e+02, 6.11677748e+04, 2.05836314e+01, 1.03966181e+04],\n",
       "       [1.86000000e+02, 6.46196646e+04, 2.60420927e+01, 9.70478241e+03],\n",
       "       [2.26000000e+02, 5.81216686e+04, 2.73018002e+01, 7.53110125e+03],\n",
       "       [2.29000000e+02, 6.47809385e+04, 2.02281012e+01, 8.40241559e+03],\n",
       "       [2.30000000e+02, 6.55884034e+04, 2.29182123e+01, 7.87973814e+03],\n",
       "       [2.36000000e+02, 5.62671716e+04, 2.24861360e+01, 7.32924316e+03],\n",
       "       [2.76000000e+02, 6.22885396e+04, 2.56021726e+01, 1.06571061e+04],\n",
       "       [2.96000000e+02, 5.77875657e+04, 2.26446692e+01, 6.33985084e+03],\n",
       "       [2.98000000e+02, 5.19351806e+04, 2.14955053e+01, 5.64945247e+03],\n",
       "       [3.06000000e+02, 5.04809527e+04, 2.70803906e+01, 8.83118437e+03],\n",
       "       [3.07000000e+02, 4.39573506e+04, 2.11448488e+01, 5.41635780e+03],\n",
       "       [3.09000000e+02, 6.01533370e+04, 2.03008601e+01, 6.47234701e+03],\n",
       "       [3.31000000e+02, 4.04962558e+04, 2.01054587e+01, 4.83460380e+03],\n",
       "       [3.43000000e+02, 6.21137296e+04, 2.78844150e+01, 1.19285099e+04],\n",
       "       [3.54000000e+02, 4.67064589e+04, 1.88303363e+01, 7.08426351e+03],\n",
       "       [3.62000000e+02, 6.60919059e+04, 2.42041407e+01, 8.74350970e+03],\n",
       "       [4.03000000e+02, 5.80791569e+04, 1.86630268e+01, 1.15400458e+04],\n",
       "       [4.06000000e+02, 6.81479573e+04, 2.29843945e+01, 1.23075623e+04],\n",
       "       [4.28000000e+02, 5.56012719e+04, 1.88429929e+01, 1.05334552e+04],\n",
       "       [4.34000000e+02, 5.52732750e+04, 2.54163910e+01, 1.02829974e+04],\n",
       "       [4.41000000e+02, 6.94456494e+04, 2.88182738e+01, 1.06434042e+04],\n",
       "       [4.53000000e+02, 6.36538399e+04, 2.75153689e+01, 8.86652719e+03],\n",
       "       [4.81000000e+02, 6.60499340e+04, 2.93157674e+01, 1.31726813e+04],\n",
       "       [4.93000000e+02, 5.42317028e+04, 2.12742106e+01, 1.01561423e+04],\n",
       "       [4.96000000e+02, 4.78475156e+04, 2.66518378e+01, 8.49401643e+03],\n",
       "       [5.01000000e+02, 6.93951165e+04, 2.39513886e+01, 1.10476843e+04],\n",
       "       [5.17000000e+02, 6.60039600e+04, 3.30735147e+01, 1.12074952e+04],\n",
       "       [5.20000000e+02, 6.49133438e+04, 2.67663112e+01, 9.78132672e+03],\n",
       "       [5.35000000e+02, 5.75902833e+04, 1.94971027e+01, 7.67631066e+03],\n",
       "       [5.86000000e+02, 5.83208089e+04, 2.02576053e+01, 1.00334917e+04],\n",
       "       [6.47000000e+02, 6.86948432e+04, 2.30814174e+01, 1.27318946e+04],\n",
       "       [6.50000000e+02, 5.78276631e+04, 2.39729682e+01, 1.08167590e+04],\n",
       "       [7.69000000e+02, 2.83862536e+04, 3.11253324e+01, 1.71894378e+03],\n",
       "       [1.22600000e+03, 2.60782136e+04, 3.18068807e+01, 3.66588090e+03],\n",
       "       [1.24800000e+03, 3.17227309e+04, 3.48518173e+01, 2.87775610e+03],\n",
       "       [1.37400000e+03, 3.13968660e+04, 3.49966814e+01, 3.71923013e+03],\n",
       "       [1.38800000e+03, 2.94098059e+04, 4.16103968e+01, 3.38856092e+03],\n",
       "       [1.48700000e+03, 2.97050747e+04, 4.18341371e+01, 1.91220509e+03],\n",
       "       [1.54500000e+03, 2.83410868e+04, 3.99617688e+01, 2.24824291e+03],\n",
       "       [1.57900000e+03, 2.98499671e+04, 3.99287241e+01, 3.67889968e+03],\n",
       "       [1.58000000e+03, 2.90721518e+04, 3.84758884e+01, 1.58943843e+03],\n",
       "       [1.62000000e+03, 3.31592173e+04, 4.23431779e+01, 2.13553214e+03],\n",
       "       [1.64000000e+03, 3.50823857e+04, 4.11536895e+01, 2.91847772e+03],\n",
       "       [1.65900000e+03, 3.39655237e+04, 4.39127465e+01, 3.12389874e+03],\n",
       "       [1.77900000e+03, 3.60198172e+04, 4.28456657e+01, 2.98796212e+03],\n",
       "       [1.81800000e+03, 3.36144946e+04, 4.64730818e+01, 4.83778751e+03],\n",
       "       [1.83200000e+03, 2.97502948e+04, 4.55444554e+01, 3.62798708e+03],\n",
       "       [1.85400000e+03, 3.85619440e+04, 4.58798310e+01, 4.83111117e+03],\n",
       "       [1.94200000e+03, 4.10279074e+04, 4.47719355e+01, 4.36921888e+03],\n",
       "       [1.94500000e+03, 3.58795200e+04, 4.10729347e+01, 5.33540350e+03],\n",
       "       [1.96000000e+03, 3.87551627e+04, 5.63554266e+01, 4.24449803e+03],\n",
       "       [1.98100000e+03, 4.02368721e+04, 5.25807728e+01, 4.35431441e+03]])"
      ]
     },
     "execution_count": 17,
     "metadata": {},
     "output_type": "execute_result"
    }
   ],
   "source": [
    "suspeitos = normalizador.inverse_transform(suspeitos)\n",
    "suspeitos"
   ]
  },
  {
   "cell_type": "code",
   "execution_count": 18,
   "metadata": {},
   "outputs": [],
   "source": [
    "classe = []"
   ]
  },
  {
   "cell_type": "code",
   "execution_count": 19,
   "metadata": {},
   "outputs": [],
   "source": [
    "for i in range(len(base)):\n",
    "    for j in range(len(suspeitos)):\n",
    "        if base.iloc[i, 0] == int(round(suspeitos[j,0])):\n",
    "            classe.append(base.iloc[i,4])"
   ]
  },
  {
   "cell_type": "code",
   "execution_count": 20,
   "metadata": {},
   "outputs": [
    {
     "data": {
      "text/plain": [
       "array([1, 1, 1, 0, 1, 1, 1, 1, 1, 1, 1, 1, 1, 1, 0, 0, 1, 1, 0, 0, 1, 1,\n",
       "       1, 1, 1, 1, 1, 1, 1, 1, 1, 1, 1, 1, 1, 1, 1, 1, 1, 0, 1, 0, 0, 0,\n",
       "       0, 0, 0, 0, 0, 0, 0, 0, 0, 0, 0, 0, 0, 0, 0])"
      ]
     },
     "execution_count": 20,
     "metadata": {},
     "output_type": "execute_result"
    }
   ],
   "source": [
    "classe = np.asarray(classe)\n",
    "classe"
   ]
  },
  {
   "cell_type": "code",
   "execution_count": 21,
   "metadata": {
    "scrolled": true
   },
   "outputs": [
    {
     "data": {
      "text/plain": [
       "array([[5.00000000e+00, 6.69526888e+04, 1.85843359e+01, 8.77009924e+03,\n",
       "        1.00000000e+00],\n",
       "       [7.20000000e+01, 3.85649321e+04, 2.12164917e+01, 5.60416999e+03,\n",
       "        1.00000000e+00],\n",
       "       [8.60000000e+01, 4.49303942e+04, 1.97773858e+01, 7.70831562e+03,\n",
       "        1.00000000e+00],\n",
       "       [8.80000000e+01, 2.76129148e+04, 1.92124482e+01, 1.51362420e+03,\n",
       "        0.00000000e+00],\n",
       "       [9.90000000e+01, 5.36018124e+04, 2.02406213e+01, 9.60137548e+03,\n",
       "        1.00000000e+00],\n",
       "       [1.41000000e+02, 4.53414746e+04, 2.25695684e+01, 6.52521842e+03,\n",
       "        1.00000000e+00],\n",
       "       [1.80000000e+02, 3.86256320e+04, 1.96300378e+01, 5.83656338e+03,\n",
       "        1.00000000e+00],\n",
       "       [1.85000000e+02, 6.11677748e+04, 2.05836314e+01, 1.03966181e+04,\n",
       "        1.00000000e+00],\n",
       "       [1.86000000e+02, 6.46196646e+04, 2.60420927e+01, 9.70478241e+03,\n",
       "        1.00000000e+00],\n",
       "       [2.26000000e+02, 5.81216686e+04, 2.73018002e+01, 7.53110125e+03,\n",
       "        1.00000000e+00],\n",
       "       [2.29000000e+02, 6.47809385e+04, 2.02281012e+01, 8.40241559e+03,\n",
       "        1.00000000e+00],\n",
       "       [2.30000000e+02, 6.55884034e+04, 2.29182123e+01, 7.87973814e+03,\n",
       "        1.00000000e+00],\n",
       "       [2.36000000e+02, 5.62671716e+04, 2.24861360e+01, 7.32924316e+03,\n",
       "        1.00000000e+00],\n",
       "       [2.76000000e+02, 6.22885396e+04, 2.56021726e+01, 1.06571061e+04,\n",
       "        1.00000000e+00],\n",
       "       [2.96000000e+02, 5.77875657e+04, 2.26446692e+01, 6.33985084e+03,\n",
       "        0.00000000e+00],\n",
       "       [2.98000000e+02, 5.19351806e+04, 2.14955053e+01, 5.64945247e+03,\n",
       "        0.00000000e+00],\n",
       "       [3.06000000e+02, 5.04809527e+04, 2.70803906e+01, 8.83118437e+03,\n",
       "        1.00000000e+00],\n",
       "       [3.07000000e+02, 4.39573506e+04, 2.11448488e+01, 5.41635780e+03,\n",
       "        1.00000000e+00],\n",
       "       [3.09000000e+02, 6.01533370e+04, 2.03008601e+01, 6.47234701e+03,\n",
       "        0.00000000e+00],\n",
       "       [3.31000000e+02, 4.04962558e+04, 2.01054587e+01, 4.83460380e+03,\n",
       "        0.00000000e+00],\n",
       "       [3.43000000e+02, 6.21137296e+04, 2.78844150e+01, 1.19285099e+04,\n",
       "        1.00000000e+00],\n",
       "       [3.54000000e+02, 4.67064589e+04, 1.88303363e+01, 7.08426351e+03,\n",
       "        1.00000000e+00],\n",
       "       [3.62000000e+02, 6.60919059e+04, 2.42041407e+01, 8.74350970e+03,\n",
       "        1.00000000e+00],\n",
       "       [4.03000000e+02, 5.80791569e+04, 1.86630268e+01, 1.15400458e+04,\n",
       "        1.00000000e+00],\n",
       "       [4.06000000e+02, 6.81479573e+04, 2.29843945e+01, 1.23075623e+04,\n",
       "        1.00000000e+00],\n",
       "       [4.28000000e+02, 5.56012719e+04, 1.88429929e+01, 1.05334552e+04,\n",
       "        1.00000000e+00],\n",
       "       [4.34000000e+02, 5.52732750e+04, 2.54163910e+01, 1.02829974e+04,\n",
       "        1.00000000e+00],\n",
       "       [4.41000000e+02, 6.94456494e+04, 2.88182738e+01, 1.06434042e+04,\n",
       "        1.00000000e+00],\n",
       "       [4.53000000e+02, 6.36538399e+04, 2.75153689e+01, 8.86652719e+03,\n",
       "        1.00000000e+00],\n",
       "       [4.81000000e+02, 6.60499340e+04, 2.93157674e+01, 1.31726813e+04,\n",
       "        1.00000000e+00],\n",
       "       [4.93000000e+02, 5.42317028e+04, 2.12742106e+01, 1.01561423e+04,\n",
       "        1.00000000e+00],\n",
       "       [4.96000000e+02, 4.78475156e+04, 2.66518378e+01, 8.49401643e+03,\n",
       "        1.00000000e+00],\n",
       "       [5.01000000e+02, 6.93951165e+04, 2.39513886e+01, 1.10476843e+04,\n",
       "        1.00000000e+00],\n",
       "       [5.17000000e+02, 6.60039600e+04, 3.30735147e+01, 1.12074952e+04,\n",
       "        1.00000000e+00],\n",
       "       [5.20000000e+02, 6.49133438e+04, 2.67663112e+01, 9.78132672e+03,\n",
       "        1.00000000e+00],\n",
       "       [5.35000000e+02, 5.75902833e+04, 1.94971027e+01, 7.67631066e+03,\n",
       "        1.00000000e+00],\n",
       "       [5.86000000e+02, 5.83208089e+04, 2.02576053e+01, 1.00334917e+04,\n",
       "        1.00000000e+00],\n",
       "       [6.47000000e+02, 6.86948432e+04, 2.30814174e+01, 1.27318946e+04,\n",
       "        1.00000000e+00],\n",
       "       [6.50000000e+02, 5.78276631e+04, 2.39729682e+01, 1.08167590e+04,\n",
       "        1.00000000e+00],\n",
       "       [7.69000000e+02, 2.83862536e+04, 3.11253324e+01, 1.71894378e+03,\n",
       "        0.00000000e+00],\n",
       "       [1.22600000e+03, 2.60782136e+04, 3.18068807e+01, 3.66588090e+03,\n",
       "        1.00000000e+00],\n",
       "       [1.24800000e+03, 3.17227309e+04, 3.48518173e+01, 2.87775610e+03,\n",
       "        0.00000000e+00],\n",
       "       [1.37400000e+03, 3.13968660e+04, 3.49966814e+01, 3.71923013e+03,\n",
       "        0.00000000e+00],\n",
       "       [1.38800000e+03, 2.94098059e+04, 4.16103968e+01, 3.38856092e+03,\n",
       "        0.00000000e+00],\n",
       "       [1.48700000e+03, 2.97050747e+04, 4.18341371e+01, 1.91220509e+03,\n",
       "        0.00000000e+00],\n",
       "       [1.54500000e+03, 2.83410868e+04, 3.99617688e+01, 2.24824291e+03,\n",
       "        0.00000000e+00],\n",
       "       [1.57900000e+03, 2.98499671e+04, 3.99287241e+01, 3.67889968e+03,\n",
       "        0.00000000e+00],\n",
       "       [1.58000000e+03, 2.90721518e+04, 3.84758884e+01, 1.58943843e+03,\n",
       "        0.00000000e+00],\n",
       "       [1.62000000e+03, 3.31592173e+04, 4.23431779e+01, 2.13553214e+03,\n",
       "        0.00000000e+00],\n",
       "       [1.64000000e+03, 3.50823857e+04, 4.11536895e+01, 2.91847772e+03,\n",
       "        0.00000000e+00],\n",
       "       [1.65900000e+03, 3.39655237e+04, 4.39127465e+01, 3.12389874e+03,\n",
       "        0.00000000e+00],\n",
       "       [1.77900000e+03, 3.60198172e+04, 4.28456657e+01, 2.98796212e+03,\n",
       "        0.00000000e+00],\n",
       "       [1.81800000e+03, 3.36144946e+04, 4.64730818e+01, 4.83778751e+03,\n",
       "        0.00000000e+00],\n",
       "       [1.83200000e+03, 2.97502948e+04, 4.55444554e+01, 3.62798708e+03,\n",
       "        0.00000000e+00],\n",
       "       [1.85400000e+03, 3.85619440e+04, 4.58798310e+01, 4.83111117e+03,\n",
       "        0.00000000e+00],\n",
       "       [1.94200000e+03, 4.10279074e+04, 4.47719355e+01, 4.36921888e+03,\n",
       "        0.00000000e+00],\n",
       "       [1.94500000e+03, 3.58795200e+04, 4.10729347e+01, 5.33540350e+03,\n",
       "        0.00000000e+00],\n",
       "       [1.96000000e+03, 3.87551627e+04, 5.63554266e+01, 4.24449803e+03,\n",
       "        0.00000000e+00],\n",
       "       [1.98100000e+03, 4.02368721e+04, 5.25807728e+01, 4.35431441e+03,\n",
       "        0.00000000e+00]])"
      ]
     },
     "execution_count": 21,
     "metadata": {},
     "output_type": "execute_result"
    }
   ],
   "source": [
    "suspeitos_final = np.column_stack((suspeitos, classe))\n",
    "suspeitos_final"
   ]
  },
  {
   "cell_type": "code",
   "execution_count": 22,
   "metadata": {},
   "outputs": [
    {
     "data": {
      "text/plain": [
       "array([[1.98100000e+03, 4.02368721e+04, 5.25807728e+01, 4.35431441e+03,\n",
       "        0.00000000e+00],\n",
       "       [1.96000000e+03, 3.87551627e+04, 5.63554266e+01, 4.24449803e+03,\n",
       "        0.00000000e+00],\n",
       "       [7.69000000e+02, 2.83862536e+04, 3.11253324e+01, 1.71894378e+03,\n",
       "        0.00000000e+00],\n",
       "       [1.24800000e+03, 3.17227309e+04, 3.48518173e+01, 2.87775610e+03,\n",
       "        0.00000000e+00],\n",
       "       [1.37400000e+03, 3.13968660e+04, 3.49966814e+01, 3.71923013e+03,\n",
       "        0.00000000e+00],\n",
       "       [3.31000000e+02, 4.04962558e+04, 2.01054587e+01, 4.83460380e+03,\n",
       "        0.00000000e+00],\n",
       "       [3.09000000e+02, 6.01533370e+04, 2.03008601e+01, 6.47234701e+03,\n",
       "        0.00000000e+00],\n",
       "       [1.38800000e+03, 2.94098059e+04, 4.16103968e+01, 3.38856092e+03,\n",
       "        0.00000000e+00],\n",
       "       [1.48700000e+03, 2.97050747e+04, 4.18341371e+01, 1.91220509e+03,\n",
       "        0.00000000e+00],\n",
       "       [2.96000000e+02, 5.77875657e+04, 2.26446692e+01, 6.33985084e+03,\n",
       "        0.00000000e+00],\n",
       "       [1.54500000e+03, 2.83410868e+04, 3.99617688e+01, 2.24824291e+03,\n",
       "        0.00000000e+00],\n",
       "       [1.57900000e+03, 2.98499671e+04, 3.99287241e+01, 3.67889968e+03,\n",
       "        0.00000000e+00],\n",
       "       [2.98000000e+02, 5.19351806e+04, 2.14955053e+01, 5.64945247e+03,\n",
       "        0.00000000e+00],\n",
       "       [1.62000000e+03, 3.31592173e+04, 4.23431779e+01, 2.13553214e+03,\n",
       "        0.00000000e+00],\n",
       "       [1.64000000e+03, 3.50823857e+04, 4.11536895e+01, 2.91847772e+03,\n",
       "        0.00000000e+00],\n",
       "       [1.94500000e+03, 3.58795200e+04, 4.10729347e+01, 5.33540350e+03,\n",
       "        0.00000000e+00],\n",
       "       [1.65900000e+03, 3.39655237e+04, 4.39127465e+01, 3.12389874e+03,\n",
       "        0.00000000e+00],\n",
       "       [1.77900000e+03, 3.60198172e+04, 4.28456657e+01, 2.98796212e+03,\n",
       "        0.00000000e+00],\n",
       "       [1.81800000e+03, 3.36144946e+04, 4.64730818e+01, 4.83778751e+03,\n",
       "        0.00000000e+00],\n",
       "       [1.83200000e+03, 2.97502948e+04, 4.55444554e+01, 3.62798708e+03,\n",
       "        0.00000000e+00],\n",
       "       [1.85400000e+03, 3.85619440e+04, 4.58798310e+01, 4.83111117e+03,\n",
       "        0.00000000e+00],\n",
       "       [8.80000000e+01, 2.76129148e+04, 1.92124482e+01, 1.51362420e+03,\n",
       "        0.00000000e+00],\n",
       "       [1.58000000e+03, 2.90721518e+04, 3.84758884e+01, 1.58943843e+03,\n",
       "        0.00000000e+00],\n",
       "       [1.94200000e+03, 4.10279074e+04, 4.47719355e+01, 4.36921888e+03,\n",
       "        0.00000000e+00],\n",
       "       [5.20000000e+02, 6.49133438e+04, 2.67663112e+01, 9.78132672e+03,\n",
       "        1.00000000e+00],\n",
       "       [5.35000000e+02, 5.75902833e+04, 1.94971027e+01, 7.67631066e+03,\n",
       "        1.00000000e+00],\n",
       "       [1.22600000e+03, 2.60782136e+04, 3.18068807e+01, 3.66588090e+03,\n",
       "        1.00000000e+00],\n",
       "       [6.47000000e+02, 6.86948432e+04, 2.30814174e+01, 1.27318946e+04,\n",
       "        1.00000000e+00],\n",
       "       [6.50000000e+02, 5.78276631e+04, 2.39729682e+01, 1.08167590e+04,\n",
       "        1.00000000e+00],\n",
       "       [5.17000000e+02, 6.60039600e+04, 3.30735147e+01, 1.12074952e+04,\n",
       "        1.00000000e+00],\n",
       "       [5.86000000e+02, 5.83208089e+04, 2.02576053e+01, 1.00334917e+04,\n",
       "        1.00000000e+00],\n",
       "       [5.01000000e+02, 6.93951165e+04, 2.39513886e+01, 1.10476843e+04,\n",
       "        1.00000000e+00],\n",
       "       [5.00000000e+00, 6.69526888e+04, 1.85843359e+01, 8.77009924e+03,\n",
       "        1.00000000e+00],\n",
       "       [4.93000000e+02, 5.42317028e+04, 2.12742106e+01, 1.01561423e+04,\n",
       "        1.00000000e+00],\n",
       "       [7.20000000e+01, 3.85649321e+04, 2.12164917e+01, 5.60416999e+03,\n",
       "        1.00000000e+00],\n",
       "       [8.60000000e+01, 4.49303942e+04, 1.97773858e+01, 7.70831562e+03,\n",
       "        1.00000000e+00],\n",
       "       [9.90000000e+01, 5.36018124e+04, 2.02406213e+01, 9.60137548e+03,\n",
       "        1.00000000e+00],\n",
       "       [1.41000000e+02, 4.53414746e+04, 2.25695684e+01, 6.52521842e+03,\n",
       "        1.00000000e+00],\n",
       "       [1.80000000e+02, 3.86256320e+04, 1.96300378e+01, 5.83656338e+03,\n",
       "        1.00000000e+00],\n",
       "       [1.85000000e+02, 6.11677748e+04, 2.05836314e+01, 1.03966181e+04,\n",
       "        1.00000000e+00],\n",
       "       [1.86000000e+02, 6.46196646e+04, 2.60420927e+01, 9.70478241e+03,\n",
       "        1.00000000e+00],\n",
       "       [2.26000000e+02, 5.81216686e+04, 2.73018002e+01, 7.53110125e+03,\n",
       "        1.00000000e+00],\n",
       "       [2.29000000e+02, 6.47809385e+04, 2.02281012e+01, 8.40241559e+03,\n",
       "        1.00000000e+00],\n",
       "       [2.30000000e+02, 6.55884034e+04, 2.29182123e+01, 7.87973814e+03,\n",
       "        1.00000000e+00],\n",
       "       [2.36000000e+02, 5.62671716e+04, 2.24861360e+01, 7.32924316e+03,\n",
       "        1.00000000e+00],\n",
       "       [2.76000000e+02, 6.22885396e+04, 2.56021726e+01, 1.06571061e+04,\n",
       "        1.00000000e+00],\n",
       "       [3.06000000e+02, 5.04809527e+04, 2.70803906e+01, 8.83118437e+03,\n",
       "        1.00000000e+00],\n",
       "       [3.07000000e+02, 4.39573506e+04, 2.11448488e+01, 5.41635780e+03,\n",
       "        1.00000000e+00],\n",
       "       [3.43000000e+02, 6.21137296e+04, 2.78844150e+01, 1.19285099e+04,\n",
       "        1.00000000e+00],\n",
       "       [3.54000000e+02, 4.67064589e+04, 1.88303363e+01, 7.08426351e+03,\n",
       "        1.00000000e+00],\n",
       "       [3.62000000e+02, 6.60919059e+04, 2.42041407e+01, 8.74350970e+03,\n",
       "        1.00000000e+00],\n",
       "       [4.03000000e+02, 5.80791569e+04, 1.86630268e+01, 1.15400458e+04,\n",
       "        1.00000000e+00],\n",
       "       [4.06000000e+02, 6.81479573e+04, 2.29843945e+01, 1.23075623e+04,\n",
       "        1.00000000e+00],\n",
       "       [4.28000000e+02, 5.56012719e+04, 1.88429929e+01, 1.05334552e+04,\n",
       "        1.00000000e+00],\n",
       "       [4.34000000e+02, 5.52732750e+04, 2.54163910e+01, 1.02829974e+04,\n",
       "        1.00000000e+00],\n",
       "       [4.41000000e+02, 6.94456494e+04, 2.88182738e+01, 1.06434042e+04,\n",
       "        1.00000000e+00],\n",
       "       [4.53000000e+02, 6.36538399e+04, 2.75153689e+01, 8.86652719e+03,\n",
       "        1.00000000e+00],\n",
       "       [4.96000000e+02, 4.78475156e+04, 2.66518378e+01, 8.49401643e+03,\n",
       "        1.00000000e+00],\n",
       "       [4.81000000e+02, 6.60499340e+04, 2.93157674e+01, 1.31726813e+04,\n",
       "        1.00000000e+00]])"
      ]
     },
     "execution_count": 22,
     "metadata": {},
     "output_type": "execute_result"
    }
   ],
   "source": [
    "suspeitos_final = suspeitos_final[suspeitos_final[:, 4].argsort()]\n",
    "suspeitos_final"
   ]
  }
 ],
 "metadata": {
  "kernelspec": {
   "display_name": "Python 3",
   "language": "python",
   "name": "python3"
  },
  "language_info": {
   "codemirror_mode": {
    "name": "ipython",
    "version": 3
   },
   "file_extension": ".py",
   "mimetype": "text/x-python",
   "name": "python",
   "nbconvert_exporter": "python",
   "pygments_lexer": "ipython3",
   "version": "3.6.6"
  }
 },
 "nbformat": 4,
 "nbformat_minor": 2
}
