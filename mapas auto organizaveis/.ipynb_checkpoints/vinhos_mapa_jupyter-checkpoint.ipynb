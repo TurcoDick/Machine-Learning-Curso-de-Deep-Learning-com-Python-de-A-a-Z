{
 "cells": [
  {
   "cell_type": "code",
   "execution_count": 1,
   "metadata": {},
   "outputs": [],
   "source": [
    "from minisom import MiniSom\n",
    "import pandas as pd\n",
    "from sklearn.preprocessing import MinMaxScaler\n",
    "from pylab import pcolor, colorbar"
   ]
  },
  {
   "cell_type": "code",
   "execution_count": 2,
   "metadata": {},
   "outputs": [],
   "source": [
    "base = pd.read_csv('../datasets/wines.csv')"
   ]
  },
  {
   "cell_type": "code",
   "execution_count": 3,
   "metadata": {},
   "outputs": [],
   "source": [
    "X = base.iloc[:, 1:14].values\n",
    "y = base.iloc[:,0].values"
   ]
  },
  {
   "cell_type": "code",
   "execution_count": 4,
   "metadata": {},
   "outputs": [],
   "source": [
    "# normalizando os valores entre 0 e 1\n",
    "normalizador = MinMaxScaler(feature_range = (0,1))\n",
    "X = normalizador.fit_transform(X)"
   ]
  },
  {
   "cell_type": "code",
   "execution_count": 5,
   "metadata": {},
   "outputs": [],
   "source": [
    "# construção do mapa auto-organizavel \n",
    "# os valores de x e y foram alcançados pelo cálculo\n",
    "# 5 raiz de N ou seja 5 raiz de 178, o resultado deve ser colocado em uma raiz quadrada\n",
    "# por que queremos transformar em uma matriz, ou seja o resultado aqui é 65,65\n",
    "# raiz de 65 é aproximada de 8 \n",
    "\n",
    "# x = linhas e y = colunas, input_len = numero de entradas, sigma = ao raio\n",
    "# partindo do centroide, learning_rate taxa de atualização dos pesos\n",
    "# random_seed é a semente para a geração dos primeiros valores dos pesos\n",
    "som = MiniSom(x = 8, y = 8, input_len=13, sigma= 1.0, learning_rate=0.5, random_seed=2) \n",
    "som.random_weights_init(X)\n",
    "som.train_random(data = X, num_iteration = 100)"
   ]
  },
  {
   "cell_type": "code",
   "execution_count": 6,
   "metadata": {},
   "outputs": [
    {
     "data": {
      "text/plain": [
       "array([[[0.13277201, 0.10805625, 0.37081143, 0.3230228 , 0.19681718,\n",
       "         0.2413142 , 0.21407854, 0.41505709, 0.20244899, 0.09606282,\n",
       "         0.52550859, 0.28911837, 0.06177925],\n",
       "        [0.17412499, 0.14090767, 0.4015812 , 0.35601993, 0.20743104,\n",
       "         0.22402004, 0.21078345, 0.40190001, 0.20193816, 0.13255045,\n",
       "         0.45085717, 0.301142  , 0.10165946],\n",
       "        [0.25930829, 0.1424701 , 0.429785  , 0.40910913, 0.23567149,\n",
       "         0.24054148, 0.16571882, 0.40376157, 0.2338656 , 0.22577168,\n",
       "         0.30516301, 0.20330164, 0.12793232],\n",
       "        [0.3158775 , 0.19719746, 0.46032212, 0.45154517, 0.2732842 ,\n",
       "         0.25534902, 0.18841622, 0.28548683, 0.20800755, 0.27502893,\n",
       "         0.16387967, 0.17415195, 0.11207492],\n",
       "        [0.43722136, 0.28346054, 0.40590725, 0.35840092, 0.22386379,\n",
       "         0.19985721, 0.09657207, 0.3615746 , 0.16098354, 0.28208232,\n",
       "         0.18113213, 0.17585421, 0.18956725],\n",
       "        [0.42043553, 0.31253179, 0.37858254, 0.35896595, 0.17499932,\n",
       "         0.18777004, 0.0664533 , 0.39054756, 0.18326613, 0.36844332,\n",
       "         0.11082157, 0.14895134, 0.1635417 ],\n",
       "        [0.39761096, 0.28515643, 0.37421631, 0.36768437, 0.20412118,\n",
       "         0.16736051, 0.07889057, 0.33476143, 0.18911414, 0.47352746,\n",
       "         0.07238583, 0.09455467, 0.15239771],\n",
       "        [0.36444047, 0.32814287, 0.38282647, 0.3825508 , 0.26532341,\n",
       "         0.13227481, 0.09374181, 0.26045435, 0.16953134, 0.48874648,\n",
       "         0.0625043 , 0.07515012, 0.15785666]],\n",
       "\n",
       "       [[0.18446456, 0.12755637, 0.3986335 , 0.34873416, 0.20109416,\n",
       "         0.22421943, 0.21410044, 0.40312234, 0.20410392, 0.12893124,\n",
       "         0.45685109, 0.30523967, 0.09976137],\n",
       "        [0.16423586, 0.14495378, 0.42112514, 0.39634133, 0.18242087,\n",
       "         0.18787771, 0.18933504, 0.41695516, 0.19591259, 0.12244795,\n",
       "         0.40275378, 0.33168609, 0.11707204],\n",
       "        [0.25433308, 0.15958143, 0.43187113, 0.44236973, 0.22014277,\n",
       "         0.1732592 , 0.17442773, 0.38635382, 0.22603004, 0.18471528,\n",
       "         0.31815928, 0.24836295, 0.14611678],\n",
       "        [0.33381761, 0.27628749, 0.43152686, 0.44723506, 0.24133093,\n",
       "         0.18995262, 0.11347417, 0.3709393 , 0.20381079, 0.24567635,\n",
       "         0.19427361, 0.14645821, 0.141822  ],\n",
       "        [0.36831778, 0.31121773, 0.41542521, 0.41336145, 0.19693005,\n",
       "         0.18069905, 0.09237251, 0.41439781, 0.16774704, 0.27420923,\n",
       "         0.14861466, 0.16154538, 0.1443431 ],\n",
       "        [0.38283214, 0.33733773, 0.38231749, 0.36608096, 0.16958532,\n",
       "         0.17714459, 0.05796795, 0.43469294, 0.16034928, 0.36751247,\n",
       "         0.09730447, 0.12466093, 0.1456621 ],\n",
       "        [0.37294402, 0.34444808, 0.38723849, 0.38196814, 0.1953273 ,\n",
       "         0.16171255, 0.06843223, 0.36914848, 0.1495545 , 0.42939214,\n",
       "         0.07378228, 0.09041506, 0.14420414],\n",
       "        [0.37289234, 0.36162117, 0.41844389, 0.42541812, 0.25063049,\n",
       "         0.13929171, 0.09029997, 0.25668529, 0.14253193, 0.39685431,\n",
       "         0.08873662, 0.08635627, 0.15718154]],\n",
       "\n",
       "       [[0.29586813, 0.14779262, 0.38008414, 0.41704417, 0.19100826,\n",
       "         0.21841162, 0.20252214, 0.36468723, 0.1947396 , 0.18299007,\n",
       "         0.35338128, 0.31830061, 0.12816913],\n",
       "        [0.27218832, 0.13681753, 0.39698802, 0.40992898, 0.18945973,\n",
       "         0.19966307, 0.20425166, 0.36534131, 0.22192492, 0.1605195 ,\n",
       "         0.34912641, 0.33080012, 0.15577142],\n",
       "        [0.30230055, 0.13658045, 0.39205081, 0.42313893, 0.2043934 ,\n",
       "         0.15762901, 0.1677024 , 0.4356585 , 0.25085035, 0.18425073,\n",
       "         0.28891568, 0.24870302, 0.17453966],\n",
       "        [0.34243161, 0.18909253, 0.41166859, 0.39163959, 0.23226999,\n",
       "         0.21809808, 0.19177366, 0.33997321, 0.23345671, 0.21617815,\n",
       "         0.24868797, 0.24142969, 0.22110617],\n",
       "        [0.32115229, 0.312216  , 0.38854701, 0.3773343 , 0.22797074,\n",
       "         0.18080117, 0.12216905, 0.43985743, 0.17985776, 0.24508775,\n",
       "         0.23560833, 0.21827527, 0.13191159],\n",
       "        [0.33247093, 0.3723946 , 0.38647275, 0.37130749, 0.18370491,\n",
       "         0.18931501, 0.07327705, 0.47227428, 0.1514597 , 0.2872894 ,\n",
       "         0.12330747, 0.16365383, 0.13450711],\n",
       "        [0.33546799, 0.40811735, 0.36932298, 0.36530768, 0.17924938,\n",
       "         0.17935636, 0.06376462, 0.44619637, 0.15725452, 0.34437972,\n",
       "         0.08392377, 0.10310204, 0.15032138],\n",
       "        [0.36478182, 0.39838347, 0.39483539, 0.37950203, 0.22386382,\n",
       "         0.15865393, 0.07942197, 0.37277681, 0.15777339, 0.33787079,\n",
       "         0.10121701, 0.10711432, 0.16426838]],\n",
       "\n",
       "       [[0.41217792, 0.11807422, 0.31862942, 0.40892162, 0.16483846,\n",
       "         0.25886435, 0.24075542, 0.23054013, 0.1783785 , 0.16993609,\n",
       "         0.33455817, 0.38808996, 0.13744706],\n",
       "        [0.37439509, 0.12478461, 0.36034194, 0.38840455, 0.18432824,\n",
       "         0.25749249, 0.2254788 , 0.27302831, 0.22788561, 0.20320314,\n",
       "         0.29289543, 0.35578613, 0.17970367],\n",
       "        [0.35872677, 0.12856158, 0.37544515, 0.33446839, 0.21486128,\n",
       "         0.25454394, 0.23881456, 0.27661987, 0.22719091, 0.17936969,\n",
       "         0.30935286, 0.34393783, 0.24427098],\n",
       "        [0.33017637, 0.22208583, 0.38555968, 0.3708964 , 0.21235211,\n",
       "         0.25723419, 0.19569292, 0.36073918, 0.21457414, 0.21784525,\n",
       "         0.24052327, 0.29521013, 0.19300425],\n",
       "        [0.30792539, 0.27816593, 0.40141083, 0.38063714, 0.23515231,\n",
       "         0.19057135, 0.14116009, 0.4327672 , 0.18295127, 0.19502004,\n",
       "         0.21514473, 0.2907638 , 0.14362412],\n",
       "        [0.29160581, 0.33098188, 0.40993442, 0.36854829, 0.22074133,\n",
       "         0.18323803, 0.0995138 , 0.4824943 , 0.14398589, 0.194406  ,\n",
       "         0.1837263 , 0.26117709, 0.12665647],\n",
       "        [0.29609727, 0.36801433, 0.38808612, 0.37345153, 0.20573731,\n",
       "         0.20843893, 0.11711583, 0.45496069, 0.1758305 , 0.22266676,\n",
       "         0.16132902, 0.23697051, 0.13287618],\n",
       "        [0.31134286, 0.34020445, 0.40201424, 0.38589344, 0.20639571,\n",
       "         0.22684407, 0.15530368, 0.38942553, 0.2047867 , 0.21428397,\n",
       "         0.17105204, 0.26245246, 0.1448211 ]],\n",
       "\n",
       "       [[0.40029991, 0.13772921, 0.27995987, 0.31558888, 0.17471808,\n",
       "         0.31565726, 0.2862954 , 0.19593073, 0.24949212, 0.22066948,\n",
       "         0.29204289, 0.41233763, 0.1613823 ],\n",
       "        [0.39253875, 0.12814525, 0.32135014, 0.26091051, 0.19383866,\n",
       "         0.32004308, 0.27648191, 0.20965907, 0.24175692, 0.18906521,\n",
       "         0.28869256, 0.40955372, 0.22908959],\n",
       "        [0.38257165, 0.11659746, 0.35215968, 0.2219929 , 0.20493309,\n",
       "         0.32025391, 0.28523162, 0.21451914, 0.23697136, 0.16665208,\n",
       "         0.28823973, 0.3755744 , 0.29452399],\n",
       "        [0.37253223, 0.12946032, 0.33767999, 0.23390948, 0.19465169,\n",
       "         0.32142513, 0.28383493, 0.24435665, 0.26362285, 0.17192667,\n",
       "         0.28794847, 0.36262527, 0.28420998],\n",
       "        [0.30702463, 0.22471932, 0.36499491, 0.29372037, 0.22965297,\n",
       "         0.27318263, 0.22559098, 0.38344642, 0.22123935, 0.15345787,\n",
       "         0.26855839, 0.3530052 , 0.20302718],\n",
       "        [0.23980949, 0.309377  , 0.37915142, 0.3414668 , 0.26171717,\n",
       "         0.22564509, 0.17971933, 0.42226421, 0.17466861, 0.11657316,\n",
       "         0.25831872, 0.36065772, 0.12451202],\n",
       "        [0.22913664, 0.32257153, 0.37118636, 0.36900193, 0.23167041,\n",
       "         0.24632343, 0.20156052, 0.38365996, 0.20624266, 0.09283656,\n",
       "         0.2461228 , 0.3818064 , 0.09913138],\n",
       "        [0.24800133, 0.26625076, 0.38460214, 0.39869945, 0.20081162,\n",
       "         0.27550595, 0.23950579, 0.33784621, 0.23355491, 0.08857744,\n",
       "         0.2305093 , 0.38554639, 0.0939121 ]],\n",
       "\n",
       "       [[0.35695727, 0.0888254 , 0.2226685 , 0.20008969, 0.16714758,\n",
       "         0.37348397, 0.32287463, 0.17554087, 0.30906086, 0.17939562,\n",
       "         0.32080714, 0.46113608, 0.17122526],\n",
       "        [0.38226199, 0.10350994, 0.2886118 , 0.17139301, 0.21456882,\n",
       "         0.34730877, 0.30557025, 0.17219023, 0.26358585, 0.18174138,\n",
       "         0.27480511, 0.43894821, 0.26476878],\n",
       "        [0.3890199 , 0.11007921, 0.32923635, 0.17975566, 0.19174123,\n",
       "         0.34470092, 0.30369225, 0.19246322, 0.2517033 , 0.18814556,\n",
       "         0.25875666, 0.36334515, 0.33653366],\n",
       "        [0.39484574, 0.1083998 , 0.31955271, 0.20848431, 0.17731912,\n",
       "         0.3418109 , 0.30393019, 0.18923122, 0.28874182, 0.19627652,\n",
       "         0.27461743, 0.30385374, 0.34737555],\n",
       "        [0.37349954, 0.1781682 , 0.32649547, 0.21618197, 0.19486475,\n",
       "         0.3278685 , 0.29070382, 0.23067506, 0.26485222, 0.18851594,\n",
       "         0.27135983, 0.34501674, 0.30638679],\n",
       "        [0.27637341, 0.3038811 , 0.35376989, 0.30236924, 0.21677175,\n",
       "         0.28642505, 0.24627885, 0.28029848, 0.23860164, 0.11569671,\n",
       "         0.2680209 , 0.41933032, 0.16868409],\n",
       "        [0.23462187, 0.29837582, 0.33877258, 0.34356442, 0.18534974,\n",
       "         0.30221715, 0.25097191, 0.28819419, 0.25803235, 0.06790255,\n",
       "         0.2675506 , 0.44490925, 0.10329346],\n",
       "        [0.23392392, 0.23286806, 0.35287762, 0.38166953, 0.16613786,\n",
       "         0.32956621, 0.27725358, 0.29072174, 0.24797475, 0.07463507,\n",
       "         0.23999131, 0.43866164, 0.07856037]],\n",
       "\n",
       "       [[0.31641238, 0.12363012, 0.24841017, 0.20378573, 0.18549419,\n",
       "         0.35794877, 0.31288699, 0.20037415, 0.31109511, 0.14888798,\n",
       "         0.36703781, 0.4447956 , 0.1710889 ],\n",
       "        [0.37622078, 0.10954743, 0.27411428, 0.15441578, 0.23904843,\n",
       "         0.34412832, 0.30471711, 0.15911787, 0.27614063, 0.18201268,\n",
       "         0.27530354, 0.44612255, 0.2636955 ],\n",
       "        [0.38992142, 0.1044074 , 0.29198666, 0.15560839, 0.21454148,\n",
       "         0.35690804, 0.30998036, 0.15636205, 0.24552162, 0.21221438,\n",
       "         0.24643297, 0.37826614, 0.35286201],\n",
       "        [0.3908088 , 0.1133585 , 0.29119164, 0.1857223 , 0.18617753,\n",
       "         0.34599194, 0.30315389, 0.16443808, 0.25145519, 0.20679026,\n",
       "         0.26742483, 0.32758721, 0.39622845],\n",
       "        [0.37826235, 0.18825583, 0.30837197, 0.1921228 , 0.19523881,\n",
       "         0.33873473, 0.30263065, 0.15745552, 0.24966077, 0.19996281,\n",
       "         0.25746399, 0.36228494, 0.34696141],\n",
       "        [0.32126414, 0.28560107, 0.35306023, 0.23326311, 0.20734654,\n",
       "         0.32019148, 0.28241499, 0.14899117, 0.25808306, 0.14587634,\n",
       "         0.25595506, 0.43844686, 0.20748733],\n",
       "        [0.25434594, 0.2532406 , 0.35517583, 0.29505014, 0.17958801,\n",
       "         0.34193479, 0.27760606, 0.17570234, 0.28998923, 0.09246211,\n",
       "         0.28047412, 0.46363228, 0.120837  ],\n",
       "        [0.21576776, 0.16353348, 0.37528364, 0.3417225 , 0.17583291,\n",
       "         0.36923726, 0.2893912 , 0.18630275, 0.30280021, 0.08393807,\n",
       "         0.25164655, 0.45448932, 0.1214889 ]],\n",
       "\n",
       "       [[0.26200284, 0.15405975, 0.25107585, 0.22491319, 0.16365571,\n",
       "         0.35803744, 0.31172937, 0.23429112, 0.32020765, 0.10885511,\n",
       "         0.42100445, 0.42149405, 0.13292551],\n",
       "        [0.33914469, 0.12862657, 0.26613992, 0.17632285, 0.20616195,\n",
       "         0.36640204, 0.31430518, 0.18305725, 0.28662198, 0.16855619,\n",
       "         0.32439529, 0.43485384, 0.22928467],\n",
       "        [0.38313738, 0.10373862, 0.27421933, 0.13221775, 0.21263175,\n",
       "         0.39488243, 0.32064999, 0.14268974, 0.24295689, 0.22883031,\n",
       "         0.23414807, 0.39227401, 0.32457592],\n",
       "        [0.38924693, 0.12622823, 0.27886966, 0.1583541 , 0.20210161,\n",
       "         0.37078669, 0.31180256, 0.13457955, 0.23960085, 0.22674752,\n",
       "         0.23665981, 0.36618483, 0.37030586],\n",
       "        [0.38338318, 0.22016483, 0.31295392, 0.172869  , 0.21169749,\n",
       "         0.34846025, 0.30438216, 0.11816758, 0.24358561, 0.19597065,\n",
       "         0.23149482, 0.3943778 , 0.3114584 ],\n",
       "        [0.35659088, 0.26368301, 0.35689659, 0.18224896, 0.23858315,\n",
       "         0.32973101, 0.29968062, 0.09292781, 0.24392477, 0.16849024,\n",
       "         0.23407785, 0.42904711, 0.22775805],\n",
       "        [0.26162413, 0.19546888, 0.38187171, 0.2707566 , 0.20396733,\n",
       "         0.36010215, 0.29231347, 0.12941929, 0.29411857, 0.12113138,\n",
       "         0.25553409, 0.45072203, 0.17638106],\n",
       "        [0.17114947, 0.09813047, 0.39437442, 0.32216635, 0.18137256,\n",
       "         0.38457814, 0.28890459, 0.14114116, 0.33711183, 0.08898448,\n",
       "         0.24592246, 0.4552746 , 0.16809953]]])"
      ]
     },
     "execution_count": 6,
     "metadata": {},
     "output_type": "execute_result"
    }
   ],
   "source": [
    "# analisando o mapa\n",
    "# visualizando os pesos criados\n",
    "som._weights"
   ]
  },
  {
   "cell_type": "code",
   "execution_count": 7,
   "metadata": {},
   "outputs": [
    {
     "data": {
      "text/plain": [
       "array([[0.88504045, 0.90066872, 1.03088724, 1.19989235, 1.26281294,\n",
       "        1.32814331, 1.40567305, 1.45320308],\n",
       "       [0.89693912, 0.91117455, 1.01994921, 1.19549135, 1.24656052,\n",
       "        1.33464876, 1.39441487, 1.41378084],\n",
       "       [0.98775947, 0.97585449, 1.04213431, 1.11078575, 1.14026212,\n",
       "        1.26438054, 1.34246807, 1.35172681],\n",
       "       [1.07492946, 1.06922472, 1.06720021, 1.08668165, 1.11118279,\n",
       "        1.15575803, 1.17542014, 1.15398716],\n",
       "       [1.10396593, 1.10960979, 1.12647925, 1.10189812, 1.03984353,\n",
       "        1.04036863, 1.02864838, 1.02416737],\n",
       "       [1.08985597, 1.15426225, 1.17684951, 1.1712796 , 1.13324725,\n",
       "        1.04889453, 1.00814402, 1.00576874],\n",
       "       [1.02900167, 1.16440364, 1.21800124, 1.21056939, 1.19416898,\n",
       "        1.13565449, 1.04418335, 1.02566488],\n",
       "       [0.95020833, 1.09093132, 1.23041019, 1.24139534, 1.22573652,\n",
       "        1.20932055, 1.09044588, 1.04540587]])"
      ]
     },
     "execution_count": 7,
     "metadata": {},
     "output_type": "execute_result"
    }
   ],
   "source": [
    "# valores do mapa auto-organizavél\n",
    "som._activation_map"
   ]
  },
  {
   "cell_type": "code",
   "execution_count": 8,
   "metadata": {},
   "outputs": [],
   "source": [
    "# visualizando quantas vezes cada neurônio foi selecionado como o BMU (o melhor centroide)\n",
    "q = som.activation_response(X)"
   ]
  },
  {
   "cell_type": "code",
   "execution_count": 9,
   "metadata": {},
   "outputs": [
    {
     "data": {
      "text/plain": [
       "<matplotlib.colorbar.Colorbar at 0x7fbe0d1148d0>"
      ]
     },
     "execution_count": 9,
     "metadata": {},
     "output_type": "execute_result"
    },
    {
     "data": {
      "image/png": "[encoded data removed]",
      "text/plain": [
       "<Figure size 432x288 with 2 Axes>"
      ]
     },
     "metadata": {},
     "output_type": "display_data"
    }
   ],
   "source": [
    "# Visualizando o quanto um neurônio é parecido com seus vizinhos\n",
    "# quanto mais escuro o neurônio for significa que mais parecido ele é dos seus \n",
    "# vizinhos já o oposto acontece quando por ser mais claro e esses diferentes podem \n",
    "# não ser muito confiavéis por serem muito diferentes dos seus vizinhos\n",
    "pcolor(som.distance_map().T)\n",
    "colorbar()"
   ]
  }
 ],
 "metadata": {
  "kernelspec": {
   "display_name": "Python 3",
   "language": "python",
   "name": "python3"
  },
  "language_info": {
   "codemirror_mode": {
    "name": "ipython",
    "version": 3
   },
   "file_extension": ".py",
   "mimetype": "text/x-python",
   "name": "python",
   "nbconvert_exporter": "python",
   "pygments_lexer": "ipython3",
   "version": "3.6.5"
  }
 },
 "nbformat": 4,
 "nbformat_minor": 2
}
