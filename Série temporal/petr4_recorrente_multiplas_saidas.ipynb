{
 "cells": [
  {
   "cell_type": "code",
   "execution_count": 1,
   "metadata": {},
   "outputs": [
    {
     "name": "stderr",
     "output_type": "stream",
     "text": [
      "/home/alison/.pyenv/versions/anaconda3-5.2.0/lib/python3.6/site-packages/h5py/__init__.py:36: FutureWarning: Conversion of the second argument of issubdtype from `float` to `np.floating` is deprecated. In future, it will be treated as `np.float64 == np.dtype(float).type`.\n",
      "  from ._conv import register_converters as _register_converters\n",
      "Using TensorFlow backend.\n"
     ]
    }
   ],
   "source": [
    "from keras.models import Sequential\n",
    "from keras.layers import Dense, Dropout, LSTM\n",
    "from sklearn.preprocessing import MinMaxScaler\n",
    "import numpy as np\n",
    "import pandas as pd\n",
    "import matplotlib.pyplot as plt\n",
    "from keras.callbacks import EarlyStopping, ReduceLROnPlateau, ModelCheckpoint"
   ]
  },
  {
   "cell_type": "code",
   "execution_count": 2,
   "metadata": {},
   "outputs": [],
   "source": [
    "base = pd.read_csv('../datasets/petr4.sa-treinamento.csv')"
   ]
  },
  {
   "cell_type": "code",
   "execution_count": 3,
   "metadata": {},
   "outputs": [],
   "source": [
    "base = base.dropna()"
   ]
  },
  {
   "cell_type": "code",
   "execution_count": 4,
   "metadata": {},
   "outputs": [
    {
     "name": "stdout",
     "output_type": "stream",
     "text": [
      "<class 'pandas.core.frame.DataFrame'>\n",
      "Int64Index: 1844 entries, 0 to 1885\n",
      "Data columns (total 7 columns):\n",
      "Date         1844 non-null object\n",
      "Open         1844 non-null float64\n",
      "High         1844 non-null float64\n",
      "Low          1844 non-null float64\n",
      "Close        1844 non-null float64\n",
      "Adj Close    1844 non-null float64\n",
      "Volume       1844 non-null float64\n",
      "dtypes: float64(6), object(1)\n",
      "memory usage: 115.2+ KB\n"
     ]
    }
   ],
   "source": [
    "base.info()"
   ]
  },
  {
   "cell_type": "code",
   "execution_count": 5,
   "metadata": {},
   "outputs": [],
   "source": [
    "base_treinamento = base.iloc[:,1:2].values\n",
    "base_valor_maximo = base.iloc[:, 2:3].values"
   ]
  },
  {
   "cell_type": "code",
   "execution_count": 6,
   "metadata": {},
   "outputs": [],
   "source": [
    "normalizador = MinMaxScaler(feature_range=(0,1))\n",
    "base_treinamento_normalizada = normalizador.fit_transform(base_treinamento)\n",
    "base_valor_maximo_normalizada = normalizador.fit_transform(base_valor_maximo)"
   ]
  },
  {
   "cell_type": "code",
   "execution_count": 7,
   "metadata": {},
   "outputs": [],
   "source": [
    "previsores = []\n",
    "preco_real1 = []\n",
    "preco_real2 = []"
   ]
  },
  {
   "cell_type": "code",
   "execution_count": 8,
   "metadata": {},
   "outputs": [
    {
     "data": {
      "text/plain": [
       "1844"
      ]
     },
     "execution_count": 8,
     "metadata": {},
     "output_type": "execute_result"
    }
   ],
   "source": [
    "len(base_treinamento_normalizada)"
   ]
  },
  {
   "cell_type": "code",
   "execution_count": 9,
   "metadata": {},
   "outputs": [],
   "source": [
    "for i in range(90, len(base_treinamento_normalizada)):\n",
    "    # repare que divido minhas amostras em séries temporais de 90 dias e o i do for começa em 90\n",
    "    # 0 é para pegar a coluna de índice 0 \n",
    "    previsores.append(base_treinamento_normalizada[ i - 90 : i, 0 ])\n",
    "    preco_real1.append(base_treinamento_normalizada[i , 0])\n",
    "    preco_real2.append(base_valor_maximo_normalizada[i, 0])"
   ]
  },
  {
   "cell_type": "code",
   "execution_count": 10,
   "metadata": {},
   "outputs": [],
   "source": [
    "# agora é necessário transformar as lista em array numpy\n",
    "previsores, preco_real1, preco_real2 = np.array(previsores), np.array(preco_real1), np.array(preco_real2)"
   ]
  },
  {
   "cell_type": "code",
   "execution_count": 11,
   "metadata": {
    "scrolled": true
   },
   "outputs": [
    {
     "data": {
      "text/plain": [
       "array([[[0.91048391],\n",
       "        [0.93104843],\n",
       "        [0.93951613],\n",
       "        ...,\n",
       "        [0.7983871 ],\n",
       "        [0.81129032],\n",
       "        [0.81129032]],\n",
       "\n",
       "       [[0.93104843],\n",
       "        [0.93951613],\n",
       "        [0.91975806],\n",
       "        ...,\n",
       "        [0.81129032],\n",
       "        [0.81129032],\n",
       "        [0.81048383]],\n",
       "\n",
       "       [[0.93951613],\n",
       "        [0.91975806],\n",
       "        [0.90645161],\n",
       "        ...,\n",
       "        [0.81129032],\n",
       "        [0.81048383],\n",
       "        [0.7983871 ]],\n",
       "\n",
       "       ...,\n",
       "\n",
       "       [[0.68830645],\n",
       "        [0.68467742],\n",
       "        [0.6875    ],\n",
       "        ...,\n",
       "        [0.61975806],\n",
       "        [0.62903222],\n",
       "        [0.63508069]],\n",
       "\n",
       "       [[0.68467742],\n",
       "        [0.6875    ],\n",
       "        [0.71209681],\n",
       "        ...,\n",
       "        [0.62903222],\n",
       "        [0.63508069],\n",
       "        [0.62096774]],\n",
       "\n",
       "       [[0.6875    ],\n",
       "        [0.71209681],\n",
       "        [0.70201617],\n",
       "        ...,\n",
       "        [0.63508069],\n",
       "        [0.62096774],\n",
       "        [0.63508069]]])"
      ]
     },
     "execution_count": 11,
     "metadata": {},
     "output_type": "execute_result"
    }
   ],
   "source": [
    "previsores = np.reshape(previsores, (previsores.shape[0], previsores.shape[1],1))\n",
    "previsores"
   ]
  },
  {
   "cell_type": "code",
   "execution_count": 12,
   "metadata": {},
   "outputs": [
    {
     "data": {
      "text/plain": [
       "array([[0.81048383, 0.8064257 ],\n",
       "       [0.7983871 , 0.79799193],\n",
       "       [0.80120968, 0.79518072],\n",
       "       ...,\n",
       "       [0.62096774, 0.62409635],\n",
       "       [0.63508069, 0.63574297],\n",
       "       [0.62177423, 0.62329321]])"
      ]
     },
     "execution_count": 12,
     "metadata": {},
     "output_type": "execute_result"
    }
   ],
   "source": [
    "preco_real = np.column_stack((preco_real1, preco_real2))\n",
    "preco_real"
   ]
  },
  {
   "cell_type": "code",
   "execution_count": 13,
   "metadata": {
    "scrolled": true
   },
   "outputs": [
    {
     "name": "stdout",
     "output_type": "stream",
     "text": [
      "Epoch 1/100\n",
      "1754/1754 [==============================] - 14s 8ms/step - loss: 0.0372 - mean_absolute_error: 0.1414\n",
      "\n",
      "Epoch 00001: loss improved from inf to 0.03718, saving model to pesos_petr4_recorrente_multiplas_saidas.h5\n",
      "Epoch 2/100\n",
      "1754/1754 [==============================] - 14s 8ms/step - loss: 0.0169 - mean_absolute_error: 0.1014\n",
      "\n",
      "Epoch 00002: loss improved from 0.03718 to 0.01694, saving model to pesos_petr4_recorrente_multiplas_saidas.h5\n",
      "Epoch 3/100\n",
      "1754/1754 [==============================] - 15s 8ms/step - loss: 0.0127 - mean_absolute_error: 0.0882\n",
      "\n",
      "Epoch 00003: loss improved from 0.01694 to 0.01271, saving model to pesos_petr4_recorrente_multiplas_saidas.h5\n",
      "Epoch 4/100\n",
      "1754/1754 [==============================] - 13s 8ms/step - loss: 0.0109 - mean_absolute_error: 0.0790\n",
      "\n",
      "Epoch 00004: loss improved from 0.01271 to 0.01088, saving model to pesos_petr4_recorrente_multiplas_saidas.h5\n",
      "Epoch 5/100\n",
      "1754/1754 [==============================] - 13s 7ms/step - loss: 0.0091 - mean_absolute_error: 0.0729\n",
      "\n",
      "Epoch 00005: loss improved from 0.01088 to 0.00913, saving model to pesos_petr4_recorrente_multiplas_saidas.h5\n",
      "Epoch 6/100\n",
      "1754/1754 [==============================] - 12s 7ms/step - loss: 0.0078 - mean_absolute_error: 0.0672\n",
      "\n",
      "Epoch 00006: loss improved from 0.00913 to 0.00779, saving model to pesos_petr4_recorrente_multiplas_saidas.h5\n",
      "Epoch 7/100\n",
      "1754/1754 [==============================] - 12s 7ms/step - loss: 0.0075 - mean_absolute_error: 0.0661\n",
      "\n",
      "Epoch 00007: loss improved from 0.00779 to 0.00754, saving model to pesos_petr4_recorrente_multiplas_saidas.h5\n",
      "Epoch 8/100\n",
      "1754/1754 [==============================] - 12s 7ms/step - loss: 0.0066 - mean_absolute_error: 0.0617\n",
      "\n",
      "Epoch 00008: loss improved from 0.00754 to 0.00660, saving model to pesos_petr4_recorrente_multiplas_saidas.h5\n",
      "Epoch 9/100\n",
      "1754/1754 [==============================] - 12s 7ms/step - loss: 0.0064 - mean_absolute_error: 0.0604\n",
      "\n",
      "Epoch 00009: loss improved from 0.00660 to 0.00636, saving model to pesos_petr4_recorrente_multiplas_saidas.h5\n",
      "Epoch 10/100\n",
      "1754/1754 [==============================] - 12s 7ms/step - loss: 0.0057 - mean_absolute_error: 0.0575\n",
      "\n",
      "Epoch 00010: loss improved from 0.00636 to 0.00566, saving model to pesos_petr4_recorrente_multiplas_saidas.h5\n",
      "Epoch 11/100\n",
      "1754/1754 [==============================] - 12s 7ms/step - loss: 0.0053 - mean_absolute_error: 0.0551\n",
      "\n",
      "Epoch 00011: loss improved from 0.00566 to 0.00532, saving model to pesos_petr4_recorrente_multiplas_saidas.h5\n",
      "Epoch 12/100\n",
      "1754/1754 [==============================] - 12s 7ms/step - loss: 0.0050 - mean_absolute_error: 0.0531\n",
      "\n",
      "Epoch 00012: loss improved from 0.00532 to 0.00502, saving model to pesos_petr4_recorrente_multiplas_saidas.h5\n",
      "Epoch 13/100\n",
      "1754/1754 [==============================] - 12s 7ms/step - loss: 0.0045 - mean_absolute_error: 0.0515\n",
      "\n",
      "Epoch 00013: loss improved from 0.00502 to 0.00454, saving model to pesos_petr4_recorrente_multiplas_saidas.h5\n",
      "Epoch 14/100\n",
      "1754/1754 [==============================] - 12s 7ms/step - loss: 0.0041 - mean_absolute_error: 0.0481\n",
      "\n",
      "Epoch 00014: loss improved from 0.00454 to 0.00409, saving model to pesos_petr4_recorrente_multiplas_saidas.h5\n",
      "Epoch 15/100\n",
      "1754/1754 [==============================] - 12s 7ms/step - loss: 0.0038 - mean_absolute_error: 0.0475\n",
      "\n",
      "Epoch 00015: loss improved from 0.00409 to 0.00376, saving model to pesos_petr4_recorrente_multiplas_saidas.h5\n",
      "Epoch 16/100\n",
      "1754/1754 [==============================] - 12s 7ms/step - loss: 0.0039 - mean_absolute_error: 0.0468\n",
      "\n",
      "Epoch 00016: loss did not improve from 0.00376\n",
      "Epoch 17/100\n",
      "1754/1754 [==============================] - 12s 7ms/step - loss: 0.0034 - mean_absolute_error: 0.0438\n",
      "\n",
      "Epoch 00017: loss improved from 0.00376 to 0.00337, saving model to pesos_petr4_recorrente_multiplas_saidas.h5\n",
      "Epoch 18/100\n",
      "1754/1754 [==============================] - 13s 7ms/step - loss: 0.0032 - mean_absolute_error: 0.0430\n",
      "\n",
      "Epoch 00018: loss improved from 0.00337 to 0.00317, saving model to pesos_petr4_recorrente_multiplas_saidas.h5\n",
      "Epoch 19/100\n",
      "1754/1754 [==============================] - 16s 9ms/step - loss: 0.0032 - mean_absolute_error: 0.0434\n",
      "\n",
      "Epoch 00019: loss did not improve from 0.00317\n",
      "Epoch 20/100\n",
      "1754/1754 [==============================] - 14s 8ms/step - loss: 0.0031 - mean_absolute_error: 0.0423\n",
      "\n",
      "Epoch 00020: loss improved from 0.00317 to 0.00312, saving model to pesos_petr4_recorrente_multiplas_saidas.h5\n",
      "Epoch 21/100\n",
      "1754/1754 [==============================] - 16s 9ms/step - loss: 0.0031 - mean_absolute_error: 0.0429\n",
      "\n",
      "Epoch 00021: loss did not improve from 0.00312\n",
      "Epoch 22/100\n",
      "1754/1754 [==============================] - 13s 7ms/step - loss: 0.0027 - mean_absolute_error: 0.0401\n",
      "\n",
      "Epoch 00022: loss improved from 0.00312 to 0.00274, saving model to pesos_petr4_recorrente_multiplas_saidas.h5\n",
      "Epoch 23/100\n",
      "1754/1754 [==============================] - 12s 7ms/step - loss: 0.0026 - mean_absolute_error: 0.0396\n",
      "\n",
      "Epoch 00023: loss improved from 0.00274 to 0.00263, saving model to pesos_petr4_recorrente_multiplas_saidas.h5\n",
      "Epoch 24/100\n",
      "1754/1754 [==============================] - 12s 7ms/step - loss: 0.0028 - mean_absolute_error: 0.0403\n",
      "\n",
      "Epoch 00024: loss did not improve from 0.00263\n",
      "Epoch 25/100\n",
      "1754/1754 [==============================] - 15s 8ms/step - loss: 0.0024 - mean_absolute_error: 0.0375\n",
      "\n",
      "Epoch 00025: loss improved from 0.00263 to 0.00244, saving model to pesos_petr4_recorrente_multiplas_saidas.h5\n",
      "Epoch 26/100\n",
      "1754/1754 [==============================] - 17s 10ms/step - loss: 0.0024 - mean_absolute_error: 0.0375\n",
      "\n",
      "Epoch 00026: loss improved from 0.00244 to 0.00238, saving model to pesos_petr4_recorrente_multiplas_saidas.h5\n",
      "Epoch 27/100\n",
      "1754/1754 [==============================] - 16s 9ms/step - loss: 0.0025 - mean_absolute_error: 0.0384\n",
      "\n",
      "Epoch 00027: loss did not improve from 0.00238\n",
      "Epoch 28/100\n",
      "1754/1754 [==============================] - 15s 8ms/step - loss: 0.0024 - mean_absolute_error: 0.0369\n",
      "\n",
      "Epoch 00028: loss did not improve from 0.00238\n",
      "Epoch 29/100\n",
      "1754/1754 [==============================] - 16s 9ms/step - loss: 0.0023 - mean_absolute_error: 0.0371\n",
      "\n",
      "Epoch 00029: loss improved from 0.00238 to 0.00232, saving model to pesos_petr4_recorrente_multiplas_saidas.h5\n",
      "Epoch 30/100\n",
      "1754/1754 [==============================] - 13s 8ms/step - loss: 0.0023 - mean_absolute_error: 0.0362\n",
      "\n",
      "Epoch 00030: loss improved from 0.00232 to 0.00230, saving model to pesos_petr4_recorrente_multiplas_saidas.h5\n",
      "Epoch 31/100\n",
      "1754/1754 [==============================] - 13s 8ms/step - loss: 0.0022 - mean_absolute_error: 0.0358\n",
      "\n",
      "Epoch 00031: loss improved from 0.00230 to 0.00225, saving model to pesos_petr4_recorrente_multiplas_saidas.h5\n",
      "Epoch 32/100\n",
      "1754/1754 [==============================] - 13s 7ms/step - loss: 0.0021 - mean_absolute_error: 0.0352\n",
      "\n",
      "Epoch 00032: loss improved from 0.00225 to 0.00213, saving model to pesos_petr4_recorrente_multiplas_saidas.h5\n",
      "Epoch 33/100\n",
      "1754/1754 [==============================] - 13s 8ms/step - loss: 0.0020 - mean_absolute_error: 0.0344\n",
      "\n",
      "Epoch 00033: loss improved from 0.00213 to 0.00205, saving model to pesos_petr4_recorrente_multiplas_saidas.h5\n",
      "Epoch 34/100\n",
      "1754/1754 [==============================] - 12s 7ms/step - loss: 0.0021 - mean_absolute_error: 0.0347\n",
      "\n",
      "Epoch 00034: loss did not improve from 0.00205\n",
      "Epoch 35/100\n",
      "1754/1754 [==============================] - 12s 7ms/step - loss: 0.0018 - mean_absolute_error: 0.0331\n",
      "\n",
      "Epoch 00035: loss improved from 0.00205 to 0.00185, saving model to pesos_petr4_recorrente_multiplas_saidas.h5\n",
      "Epoch 36/100\n",
      "1754/1754 [==============================] - 12s 7ms/step - loss: 0.0018 - mean_absolute_error: 0.0325\n",
      "\n",
      "Epoch 00036: loss improved from 0.00185 to 0.00182, saving model to pesos_petr4_recorrente_multiplas_saidas.h5\n",
      "Epoch 37/100\n",
      "1754/1754 [==============================] - 12s 7ms/step - loss: 0.0019 - mean_absolute_error: 0.0329\n",
      "\n",
      "Epoch 00037: loss did not improve from 0.00182\n",
      "Epoch 38/100\n",
      "1754/1754 [==============================] - 13s 7ms/step - loss: 0.0019 - mean_absolute_error: 0.0330\n",
      "\n",
      "Epoch 00038: loss did not improve from 0.00182\n",
      "Epoch 39/100\n",
      "1754/1754 [==============================] - 13s 8ms/step - loss: 0.0020 - mean_absolute_error: 0.0335\n",
      "\n",
      "Epoch 00039: loss did not improve from 0.00182\n",
      "Epoch 40/100\n"
     ]
    },
    {
     "name": "stdout",
     "output_type": "stream",
     "text": [
      "1754/1754 [==============================] - 12s 7ms/step - loss: 0.0018 - mean_absolute_error: 0.0324\n",
      "\n",
      "Epoch 00040: ReduceLROnPlateau reducing learning rate to 0.00020000000949949026.\n",
      "\n",
      "Epoch 00040: loss improved from 0.00182 to 0.00176, saving model to pesos_petr4_recorrente_multiplas_saidas.h5\n",
      "Epoch 41/100\n",
      "1754/1754 [==============================] - 12s 7ms/step - loss: 0.0015 - mean_absolute_error: 0.0290\n",
      "\n",
      "Epoch 00041: loss improved from 0.00176 to 0.00146, saving model to pesos_petr4_recorrente_multiplas_saidas.h5\n",
      "Epoch 42/100\n",
      "1754/1754 [==============================] - 12s 7ms/step - loss: 0.0014 - mean_absolute_error: 0.0281\n",
      "\n",
      "Epoch 00042: loss improved from 0.00146 to 0.00141, saving model to pesos_petr4_recorrente_multiplas_saidas.h5\n",
      "Epoch 43/100\n",
      "1754/1754 [==============================] - 12s 7ms/step - loss: 0.0014 - mean_absolute_error: 0.0280\n",
      "\n",
      "Epoch 00043: loss improved from 0.00141 to 0.00136, saving model to pesos_petr4_recorrente_multiplas_saidas.h5\n",
      "Epoch 44/100\n",
      "1754/1754 [==============================] - 12s 7ms/step - loss: 0.0013 - mean_absolute_error: 0.0272\n",
      "\n",
      "Epoch 00044: loss improved from 0.00136 to 0.00130, saving model to pesos_petr4_recorrente_multiplas_saidas.h5\n",
      "Epoch 45/100\n",
      "1754/1754 [==============================] - 16s 9ms/step - loss: 0.0014 - mean_absolute_error: 0.0281\n",
      "\n",
      "Epoch 00045: loss did not improve from 0.00130\n",
      "Epoch 46/100\n",
      "1754/1754 [==============================] - 16s 9ms/step - loss: 0.0014 - mean_absolute_error: 0.0281\n",
      "\n",
      "Epoch 00046: loss did not improve from 0.00130\n",
      "Epoch 47/100\n",
      "1754/1754 [==============================] - 15s 9ms/step - loss: 0.0013 - mean_absolute_error: 0.0275\n",
      "\n",
      "Epoch 00047: loss did not improve from 0.00130\n",
      "Epoch 48/100\n",
      "1754/1754 [==============================] - 15s 9ms/step - loss: 0.0014 - mean_absolute_error: 0.0275\n",
      "\n",
      "Epoch 00048: loss did not improve from 0.00130\n",
      "Epoch 49/100\n",
      "1754/1754 [==============================] - 17s 10ms/step - loss: 0.0013 - mean_absolute_error: 0.0273\n",
      "\n",
      "Epoch 00049: ReduceLROnPlateau reducing learning rate to 4.0000001899898055e-05.\n",
      "\n",
      "Epoch 00049: loss did not improve from 0.00130\n",
      "Epoch 50/100\n",
      "1754/1754 [==============================] - 15s 9ms/step - loss: 0.0013 - mean_absolute_error: 0.0270\n",
      "\n",
      "Epoch 00050: loss improved from 0.00130 to 0.00127, saving model to pesos_petr4_recorrente_multiplas_saidas.h5\n",
      "Epoch 51/100\n",
      "1754/1754 [==============================] - 16s 9ms/step - loss: 0.0013 - mean_absolute_error: 0.0264\n",
      "\n",
      "Epoch 00051: loss improved from 0.00127 to 0.00125, saving model to pesos_petr4_recorrente_multiplas_saidas.h5\n",
      "Epoch 52/100\n",
      "1754/1754 [==============================] - 17s 10ms/step - loss: 0.0013 - mean_absolute_error: 0.0274\n",
      "\n",
      "Epoch 00052: loss did not improve from 0.00125\n",
      "Epoch 53/100\n",
      "1754/1754 [==============================] - 16s 9ms/step - loss: 0.0012 - mean_absolute_error: 0.0262\n",
      "\n",
      "Epoch 00053: loss improved from 0.00125 to 0.00121, saving model to pesos_petr4_recorrente_multiplas_saidas.h5\n",
      "Epoch 54/100\n",
      "1754/1754 [==============================] - 15s 9ms/step - loss: 0.0013 - mean_absolute_error: 0.0272\n",
      "\n",
      "Epoch 00054: ReduceLROnPlateau reducing learning rate to 8.000000525498762e-06.\n",
      "\n",
      "Epoch 00054: loss did not improve from 0.00121\n",
      "Epoch 55/100\n",
      "1754/1754 [==============================] - 15s 9ms/step - loss: 0.0012 - mean_absolute_error: 0.0261\n",
      "\n",
      "Epoch 00055: loss did not improve from 0.00121\n",
      "Epoch 56/100\n",
      "1754/1754 [==============================] - 15s 9ms/step - loss: 0.0013 - mean_absolute_error: 0.0270\n",
      "\n",
      "Epoch 00056: loss did not improve from 0.00121\n",
      "Epoch 57/100\n",
      "1754/1754 [==============================] - 15s 9ms/step - loss: 0.0013 - mean_absolute_error: 0.0267\n",
      "\n",
      "Epoch 00057: loss did not improve from 0.00121\n",
      "Epoch 58/100\n",
      "1754/1754 [==============================] - 15s 9ms/step - loss: 0.0013 - mean_absolute_error: 0.0268\n",
      "\n",
      "Epoch 00058: loss did not improve from 0.00121\n",
      "Epoch 59/100\n",
      "1754/1754 [==============================] - 15s 9ms/step - loss: 0.0013 - mean_absolute_error: 0.0267\n",
      "\n",
      "Epoch 00059: ReduceLROnPlateau reducing learning rate to 1.6000001778593287e-06.\n",
      "\n",
      "Epoch 00059: loss did not improve from 0.00121\n",
      "Epoch 60/100\n",
      "1754/1754 [==============================] - 16s 9ms/step - loss: 0.0013 - mean_absolute_error: 0.0270\n",
      "\n",
      "Epoch 00060: loss did not improve from 0.00121\n",
      "Epoch 61/100\n",
      "1754/1754 [==============================] - 15s 9ms/step - loss: 0.0012 - mean_absolute_error: 0.0261\n",
      "\n",
      "Epoch 00061: loss did not improve from 0.00121\n",
      "Epoch 62/100\n",
      "1754/1754 [==============================] - 15s 9ms/step - loss: 0.0011 - mean_absolute_error: 0.0254\n",
      "\n",
      "Epoch 00062: loss improved from 0.00121 to 0.00115, saving model to pesos_petr4_recorrente_multiplas_saidas.h5\n",
      "Epoch 63/100\n",
      "1754/1754 [==============================] - 15s 9ms/step - loss: 0.0013 - mean_absolute_error: 0.0270\n",
      "\n",
      "Epoch 00063: loss did not improve from 0.00115\n",
      "Epoch 64/100\n",
      "1754/1754 [==============================] - 15s 9ms/step - loss: 0.0013 - mean_absolute_error: 0.0269\n",
      "\n",
      "Epoch 00064: loss did not improve from 0.00115\n",
      "Epoch 65/100\n",
      "1754/1754 [==============================] - 15s 9ms/step - loss: 0.0012 - mean_absolute_error: 0.0257\n",
      "\n",
      "Epoch 00065: loss did not improve from 0.00115\n",
      "Epoch 66/100\n",
      "1754/1754 [==============================] - 15s 9ms/step - loss: 0.0013 - mean_absolute_error: 0.0268\n",
      "\n",
      "Epoch 00066: loss did not improve from 0.00115\n",
      "Epoch 67/100\n",
      "1754/1754 [==============================] - 16s 9ms/step - loss: 0.0013 - mean_absolute_error: 0.0268\n",
      "\n",
      "Epoch 00067: ReduceLROnPlateau reducing learning rate to 3.200000264769187e-07.\n",
      "\n",
      "Epoch 00067: loss did not improve from 0.00115\n",
      "Epoch 68/100\n",
      "1754/1754 [==============================] - 16s 9ms/step - loss: 0.0013 - mean_absolute_error: 0.0271\n",
      "\n",
      "Epoch 00068: loss did not improve from 0.00115\n",
      "Epoch 69/100\n",
      "1754/1754 [==============================] - 15s 8ms/step - loss: 0.0012 - mean_absolute_error: 0.0258\n",
      "\n",
      "Epoch 00069: loss did not improve from 0.00115\n",
      "Epoch 70/100\n",
      "1754/1754 [==============================] - 15s 9ms/step - loss: 0.0012 - mean_absolute_error: 0.0262\n",
      "\n",
      "Epoch 00070: loss did not improve from 0.00115\n",
      "Epoch 71/100\n",
      "1754/1754 [==============================] - 15s 9ms/step - loss: 0.0012 - mean_absolute_error: 0.0261\n",
      "\n",
      "Epoch 00071: loss did not improve from 0.00115\n",
      "Epoch 72/100\n",
      "1754/1754 [==============================] - 15s 9ms/step - loss: 0.0012 - mean_absolute_error: 0.0262\n",
      "\n",
      "Epoch 00072: ReduceLROnPlateau reducing learning rate to 6.400000529538374e-08.\n",
      "\n",
      "Epoch 00072: loss did not improve from 0.00115\n",
      "Epoch 73/100\n",
      "1754/1754 [==============================] - 15s 9ms/step - loss: 0.0012 - mean_absolute_error: 0.0262\n",
      "\n",
      "Epoch 00073: loss did not improve from 0.00115\n",
      "Epoch 74/100\n",
      "1754/1754 [==============================] - 16s 9ms/step - loss: 0.0013 - mean_absolute_error: 0.0267\n",
      "\n",
      "Epoch 00074: loss did not improve from 0.00115\n",
      "Epoch 75/100\n",
      "1754/1754 [==============================] - 15s 9ms/step - loss: 0.0013 - mean_absolute_error: 0.0266\n",
      "\n",
      "Epoch 00075: loss did not improve from 0.00115\n",
      "Epoch 76/100\n",
      "1754/1754 [==============================] - 15s 9ms/step - loss: 0.0013 - mean_absolute_error: 0.0271\n",
      "\n",
      "Epoch 00076: loss did not improve from 0.00115\n",
      "Epoch 77/100\n",
      "1754/1754 [==============================] - 16s 9ms/step - loss: 0.0013 - mean_absolute_error: 0.0269\n",
      "\n",
      "Epoch 00077: ReduceLROnPlateau reducing learning rate to 1.2800001059076749e-08.\n",
      "\n",
      "Epoch 00077: loss did not improve from 0.00115\n",
      "Epoch 00077: early stopping\n"
     ]
    },
    {
     "data": {
      "text/plain": [
       "<keras.callbacks.History at 0x7f7da1d6e470>"
      ]
     },
     "execution_count": 13,
     "metadata": {},
     "output_type": "execute_result"
    }
   ],
   "source": [
    "rede = Sequential()\n",
    "# neste caso o units é o número de celulas de mémoria, e ele deve ser grande para capturar mais dimensionalidade e \n",
    "# capturar a tendência \n",
    "# return_sequences = True é utilizado quando teremos mais de uma camada LSTM assim ela passa a informação para a próxima\n",
    "# camada,\n",
    "# input_shape()\n",
    "rede.add(LSTM(units = 100, return_sequences= True, input_shape = (previsores.shape[1],1)))\n",
    "rede.add(Dropout(0.3))\n",
    "\n",
    "\n",
    "# a quantidade de neurônios pode variar de camáda para camada \n",
    "rede.add(LSTM(units = 50, return_sequences= True))\n",
    "rede.add(Dropout(0.3))\n",
    "\n",
    "rede.add(LSTM(units = 50, return_sequences= True))\n",
    "rede.add(Dropout(0.3))\n",
    "\n",
    "\n",
    "# a última camada recorrente não pode ter o parâmetro\n",
    "rede.add(LSTM(units = 50))\n",
    "rede.add(Dropout(0.3))\n",
    "\n",
    "# adicionando a camada de saída, do tipo densa, ou seja todos os neurônios da última camada recorrente estarão ligados \n",
    "# a todos os neurônios da camada de saída\n",
    "# a camada de saída tera duas saídas possíveis por isto precisamos de dois neurônio\n",
    "# neste caso precisamos que a saída seja 0 ou 1 então o linear ou sigmoid são as opções \n",
    "rede.add(Dense(units = 2, activation = 'linear'))\n",
    "\n",
    "# com o metrics = ['mean_absolute_error'] fica mais fácil para visualizarmos o resultado  \n",
    "\n",
    "rede.compile(optimizer = 'rmsprop',\n",
    "             loss = 'mean_squared_error',\n",
    "             metrics = ['mean_absolute_error'])\n",
    "\n",
    "es = EarlyStopping(monitor = 'loss', min_delta=1e-10, patience=15,verbose=1)\n",
    "rlr = ReduceLROnPlateau(monitor = 'loss', factor = 0.2, patience = 5, verbose = 1)\n",
    "mcp = ModelCheckpoint(filepath='pesos_petr4_recorrente_multiplas_saidas.h5', monitor='loss', save_best_only=True, verbose= 1)\n",
    "\n",
    "rede.fit(previsores, preco_real, epochs = 100, batch_size = 32, callbacks=[es, rlr, mcp])"
   ]
  },
  {
   "cell_type": "markdown",
   "metadata": {},
   "source": [
    "### Salvar configurações da rede neural ###"
   ]
  },
  {
   "cell_type": "code",
   "execution_count": 14,
   "metadata": {},
   "outputs": [],
   "source": [
    "configuracoes_json = rede.to_json()\n",
    "with open('../datasets_configs/configuracoes_petr4_recorrente_multiplas_saidas', 'w' ) as json_file:\n",
    "    json_file.write(configuracoes_json)"
   ]
  },
  {
   "cell_type": "markdown",
   "metadata": {},
   "source": [
    "### Salvar configurações e pesos para posteriores predições ###"
   ]
  },
  {
   "cell_type": "code",
   "execution_count": 15,
   "metadata": {},
   "outputs": [],
   "source": [
    "rede.save_weights('../datasets_configs/pesos_petr4_recorrente_multiplas_saidas.h5')"
   ]
  },
  {
   "cell_type": "code",
   "execution_count": 16,
   "metadata": {},
   "outputs": [],
   "source": [
    "base_teste = pd.read_csv('../datasets/petr4-teste.csv')"
   ]
  },
  {
   "cell_type": "code",
   "execution_count": 17,
   "metadata": {},
   "outputs": [],
   "source": [
    "preco_real_open = base_teste.iloc[:,1:2].values"
   ]
  },
  {
   "cell_type": "code",
   "execution_count": 18,
   "metadata": {},
   "outputs": [],
   "source": [
    "preco_real_high = base_teste.iloc[:,2:3].values"
   ]
  },
  {
   "cell_type": "code",
   "execution_count": 19,
   "metadata": {},
   "outputs": [],
   "source": [
    "base_completa = pd.concat((base['Open'], base['Open']), axis=0)"
   ]
  },
  {
   "cell_type": "code",
   "execution_count": 20,
   "metadata": {},
   "outputs": [],
   "source": [
    "entradas = base_completa[len(base_completa) - len(base_teste) - 90:].values"
   ]
  },
  {
   "cell_type": "code",
   "execution_count": 21,
   "metadata": {},
   "outputs": [],
   "source": [
    "entradas = entradas.reshape(-1,1)"
   ]
  },
  {
   "cell_type": "code",
   "execution_count": 22,
   "metadata": {},
   "outputs": [],
   "source": [
    "entradas = normalizador.transform(entradas)"
   ]
  },
  {
   "cell_type": "code",
   "execution_count": 23,
   "metadata": {},
   "outputs": [],
   "source": [
    "X_teste = []\n",
    "for i in range(90, len(entradas)):\n",
    "    X_teste.append(entradas[i - 90 : i, 0])\n",
    "    \n",
    "X_teste = np.array(X_teste)\n",
    "X_teste = np.reshape(X_teste, (X_teste.shape[0], X_teste.shape[1], 1))"
   ]
  },
  {
   "cell_type": "code",
   "execution_count": 24,
   "metadata": {
    "scrolled": true
   },
   "outputs": [
    {
     "data": {
      "text/plain": [
       "array([[0.69941914, 0.7055432 ],\n",
       "       [0.71509665, 0.7210434 ],\n",
       "       [0.7056496 , 0.71177447],\n",
       "       [0.6924895 , 0.6988745 ],\n",
       "       [0.7045917 , 0.7109145 ],\n",
       "       [0.7247274 , 0.73083264],\n",
       "       [0.72740424, 0.7335074 ],\n",
       "       [0.7129177 , 0.719278  ],\n",
       "       [0.69112754, 0.6978409 ],\n",
       "       [0.67605627, 0.6830025 ],\n",
       "       [0.6716046 , 0.6785971 ],\n",
       "       [0.6740761 , 0.6809834 ],\n",
       "       [0.68743086, 0.69410336],\n",
       "       [0.69505537, 0.7015526 ],\n",
       "       [0.7011596 , 0.70753634],\n",
       "       [0.7077036 , 0.7139835 ],\n",
       "       [0.69558203, 0.70201534],\n",
       "       [0.678172  , 0.68485117],\n",
       "       [0.67320013, 0.6799601 ],\n",
       "       [0.6743516 , 0.68107784],\n",
       "       [0.6597699 , 0.66661793],\n",
       "       [0.6556308 , 0.6624887 ],\n",
       "       [0.66264737, 0.6693615 ],\n",
       "       [0.6770896 , 0.68356484],\n",
       "       [0.676617  , 0.68303496],\n",
       "       [0.67380065, 0.68023384],\n",
       "       [0.68452847, 0.69083637],\n",
       "       [0.6958941 , 0.7020639 ],\n",
       "       [0.68647504, 0.69277436],\n",
       "       [0.66386676, 0.6704793 ],\n",
       "       [0.6615513 , 0.6682332 ],\n",
       "       [0.6896131 , 0.6959655 ],\n",
       "       [0.71496975, 0.72097534],\n",
       "       [0.7170404 , 0.72302437],\n",
       "       [0.7174969 , 0.7235491 ],\n",
       "       [0.71332026, 0.71951   ],\n",
       "       [0.70741534, 0.7137673 ],\n",
       "       [0.72005105, 0.7263216 ],\n",
       "       [0.7358843 , 0.74198925],\n",
       "       [0.73790133, 0.7440229 ],\n",
       "       [0.7284802 , 0.73480093],\n",
       "       [0.7199685 , 0.726483  ],\n",
       "       [0.72119987, 0.72775644],\n",
       "       [0.7359675 , 0.742356  ],\n",
       "       [0.7528156 , 0.7589797 ],\n",
       "       [0.79571855, 0.80131215],\n",
       "       [0.8468822 , 0.8517341 ],\n",
       "       [0.86521876, 0.86986625],\n",
       "       [0.86470306, 0.8696121 ],\n",
       "       [0.87495124, 0.8800131 ],\n",
       "       [0.8992852 , 0.9042102 ],\n",
       "       [0.8603834 , 0.8661729 ],\n",
       "       [0.82963336, 0.8362908 ],\n",
       "       [0.8096688 , 0.8168448 ],\n",
       "       [0.7908969 , 0.79842067],\n",
       "       [0.70345294, 0.7121459 ],\n",
       "       [0.63208246, 0.64161384],\n",
       "       [0.59474194, 0.60442626],\n",
       "       [0.5695008 , 0.57898724],\n",
       "       [0.55646986, 0.56554043],\n",
       "       [0.5738621 , 0.58221865],\n",
       "       [0.56506956, 0.57294655],\n",
       "       [0.53585947, 0.54353577],\n",
       "       [0.50413907, 0.51169205],\n",
       "       [0.48175505, 0.4891357 ],\n",
       "       [0.47059238, 0.47773412],\n",
       "       [0.46272892, 0.46962255],\n",
       "       [0.4558987 , 0.46256062],\n",
       "       [0.45112687, 0.457574  ],\n",
       "       [0.44821203, 0.45446515],\n",
       "       [0.44277447, 0.4488781 ],\n",
       "       [0.43342754, 0.43943027],\n",
       "       [0.41899118, 0.42493826],\n",
       "       [0.42845196, 0.43424666],\n",
       "       [0.45777285, 0.46332356],\n",
       "       [0.46899128, 0.4744116 ],\n",
       "       [0.45560953, 0.461075  ],\n",
       "       [0.4493997 , 0.4548941 ],\n",
       "       [0.4614827 , 0.46691763],\n",
       "       [0.48596215, 0.49126807],\n",
       "       [0.5042614 , 0.5094826 ],\n",
       "       [0.51031774, 0.5155569 ],\n",
       "       [0.52128977, 0.5265335 ],\n",
       "       [0.5300675 , 0.5353451 ],\n",
       "       [0.5502033 , 0.5554372 ],\n",
       "       [0.5607351 , 0.5660058 ],\n",
       "       [0.5621387 , 0.5675329 ],\n",
       "       [0.54826   , 0.5539041 ],\n",
       "       [0.5347556 , 0.5406263 ],\n",
       "       [0.5370465 , 0.5429847 ],\n",
       "       [0.54691106, 0.55282104],\n",
       "       [0.548837  , 0.55476177],\n",
       "       [0.5505632 , 0.55650043],\n",
       "       [0.54880035, 0.5547739 ],\n",
       "       [0.5663844 , 0.57223505],\n",
       "       [0.59344316, 0.59907997],\n",
       "       [0.6117885 , 0.61730117],\n",
       "       [0.6188555 , 0.6243868 ],\n",
       "       [0.6226206 , 0.62823325],\n",
       "       [0.6201818 , 0.62594795],\n",
       "       [0.62112033, 0.627004  ]], dtype=float32)"
      ]
     },
     "execution_count": 24,
     "metadata": {},
     "output_type": "execute_result"
    }
   ],
   "source": [
    "previsores = rede.predict(X_teste)\n",
    "previsores"
   ]
  },
  {
   "cell_type": "code",
   "execution_count": 25,
   "metadata": {
    "scrolled": true
   },
   "outputs": [
    {
     "data": {
      "text/plain": [
       "array([[21.685537 , 21.838026 ],\n",
       "       [22.075907 , 22.223982 ],\n",
       "       [21.840675 , 21.993185 ],\n",
       "       [21.512989 , 21.671974 ],\n",
       "       [21.814333 , 21.971771 ],\n",
       "       [22.315712 , 22.467733 ],\n",
       "       [22.382366 , 22.534334 ],\n",
       "       [22.02165  , 22.180021 ],\n",
       "       [21.479076 , 21.64624  ],\n",
       "       [21.103802 , 21.276762 ],\n",
       "       [20.992954 , 21.167068 ],\n",
       "       [21.054495 , 21.226488 ],\n",
       "       [21.38703  , 21.553175 ],\n",
       "       [21.57688  , 21.73866  ],\n",
       "       [21.728874 , 21.887655 ],\n",
       "       [21.891819 , 22.04819  ],\n",
       "       [21.589993 , 21.750183 ],\n",
       "       [21.156483 , 21.322794 ],\n",
       "       [21.032684 , 21.201006 ],\n",
       "       [21.061354 , 21.228838 ],\n",
       "       [20.69827  , 20.868788 ],\n",
       "       [20.595207 , 20.765968 ],\n",
       "       [20.76992  , 20.937101 ],\n",
       "       [21.12953  , 21.290766 ],\n",
       "       [21.117764 , 21.27757  ],\n",
       "       [21.047636 , 21.207823 ],\n",
       "       [21.31476  , 21.471827 ],\n",
       "       [21.597765 , 21.751392 ],\n",
       "       [21.36323  , 21.520082 ],\n",
       "       [20.800283 , 20.964935 ],\n",
       "       [20.742628 , 20.909008 ],\n",
       "       [21.441366 , 21.599543 ],\n",
       "       [22.072748 , 22.222286 ],\n",
       "       [22.124308 , 22.273308 ],\n",
       "       [22.135672 , 22.286373 ],\n",
       "       [22.031675 , 22.1858   ],\n",
       "       [21.884642 , 22.042807 ],\n",
       "       [22.199272 , 22.355408 ],\n",
       "       [22.59352  , 22.745533 ],\n",
       "       [22.643744 , 22.796171 ],\n",
       "       [22.409159 , 22.566544 ],\n",
       "       [22.197216 , 22.359426 ],\n",
       "       [22.227877 , 22.391136 ],\n",
       "       [22.595592 , 22.754665 ],\n",
       "       [23.015108 , 23.168594 ],\n",
       "       [24.083393 , 24.222673 ],\n",
       "       [25.357367 , 25.47818  ],\n",
       "       [25.813946 , 25.929668 ],\n",
       "       [25.801105 , 25.92334  ],\n",
       "       [26.056284 , 26.182325 ],\n",
       "       [26.6622   , 26.784834 ],\n",
       "       [25.693546 , 25.837704 ],\n",
       "       [24.92787  , 25.093641 ],\n",
       "       [24.430754 , 24.609436 ],\n",
       "       [23.963333 , 24.150675 ],\n",
       "       [21.785978 , 22.002434 ],\n",
       "       [20.008854 , 20.246185 ],\n",
       "       [19.079075 , 19.320215 ],\n",
       "       [18.450571 , 18.686783 ],\n",
       "       [18.1261   , 18.351957 ],\n",
       "       [18.559166 , 18.767244 ],\n",
       "       [18.340233 , 18.53637  ],\n",
       "       [17.612902 , 17.80404  ],\n",
       "       [16.823063 , 17.011133 ],\n",
       "       [16.265701 , 16.449478 ],\n",
       "       [15.987751 , 16.165579 ],\n",
       "       [15.79195  , 15.963602 ],\n",
       "       [15.621878 , 15.787759 ],\n",
       "       [15.503059 , 15.663593 ],\n",
       "       [15.43048  , 15.586183 ],\n",
       "       [15.295085 , 15.447065 ],\n",
       "       [15.0623455, 15.211813 ],\n",
       "       [14.70288  , 14.850964 ],\n",
       "       [14.938454 , 15.082743 ],\n",
       "       [15.668545 , 15.806756 ],\n",
       "       [15.947884 , 16.08285  ],\n",
       "       [15.614677 , 15.750768 ],\n",
       "       [15.460053 , 15.596863 ],\n",
       "       [15.76092  , 15.89625  ],\n",
       "       [16.370459 , 16.502575 ],\n",
       "       [16.826109 , 16.956118 ],\n",
       "       [16.976912 , 17.107367 ],\n",
       "       [17.250116 , 17.380684 ],\n",
       "       [17.468681 , 17.600092 ],\n",
       "       [17.970062 , 18.100388 ],\n",
       "       [18.232304 , 18.363546 ],\n",
       "       [18.267254 , 18.40157  ],\n",
       "       [17.921673 , 18.062212 ],\n",
       "       [17.585415 , 17.731594 ],\n",
       "       [17.642458 , 17.79032  ],\n",
       "       [17.888086 , 18.035244 ],\n",
       "       [17.936043 , 18.083569 ],\n",
       "       [17.979025 , 18.126862 ],\n",
       "       [17.93513  , 18.083872 ],\n",
       "       [18.37297  , 18.518654 ],\n",
       "       [19.046736 , 19.187092 ],\n",
       "       [19.503534 , 19.640799 ],\n",
       "       [19.679502 , 19.817232 ],\n",
       "       [19.773252 , 19.913008 ],\n",
       "       [19.712526 , 19.856104 ],\n",
       "       [19.735897 , 19.8824   ]], dtype=float32)"
      ]
     },
     "execution_count": 25,
     "metadata": {},
     "output_type": "execute_result"
    }
   ],
   "source": [
    "previsores = normalizador.inverse_transform(previsores)\n",
    "previsores"
   ]
  },
  {
   "cell_type": "code",
   "execution_count": 26,
   "metadata": {},
   "outputs": [
    {
     "data": {
      "image/png": "[encoded data removed]",
      "text/plain": [
       "<Figure size 432x288 with 1 Axes>"
      ]
     },
     "metadata": {},
     "output_type": "display_data"
    }
   ],
   "source": [
    "plt.plot(preco_real_open, color='red', label= 'Preço abertura real')\n",
    "plt.plot(preco_real_high, color='black', label= 'Preço alta real')\n",
    "\n",
    "plt.plot(previsores[:, 0], color='blue', label='Previsão abertura')\n",
    "plt.plot(previsores[:, 1], color='orange', label='Previsões alta')\n",
    "\n",
    "plt.title('Previsões  preço das ações')\n",
    "plt.xlabel('Tempo')\n",
    "plt.ylabel('Valor Yahoo')\n",
    "plt.legend()\n",
    "plt.show()"
   ]
  },
  {
   "cell_type": "code",
   "execution_count": null,
   "metadata": {},
   "outputs": [],
   "source": []
  },
  {
   "cell_type": "code",
   "execution_count": null,
   "metadata": {},
   "outputs": [],
   "source": []
  },
  {
   "cell_type": "code",
   "execution_count": null,
   "metadata": {},
   "outputs": [],
   "source": []
  },
  {
   "cell_type": "code",
   "execution_count": null,
   "metadata": {},
   "outputs": [],
   "source": []
  },
  {
   "cell_type": "code",
   "execution_count": null,
   "metadata": {},
   "outputs": [],
   "source": []
  },
  {
   "cell_type": "code",
   "execution_count": null,
   "metadata": {},
   "outputs": [],
   "source": []
  }
 ],
 "metadata": {
  "kernelspec": {
   "display_name": "Python 3",
   "language": "python",
   "name": "python3"
  },
  "language_info": {
   "codemirror_mode": {
    "name": "ipython",
    "version": 3
   },
   "file_extension": ".py",
   "mimetype": "text/x-python",
   "name": "python",
   "nbconvert_exporter": "python",
   "pygments_lexer": "ipython3",
   "version": "3.6.4"
  }
 },
 "nbformat": 4,
 "nbformat_minor": 2
}
