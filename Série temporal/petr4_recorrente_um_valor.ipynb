{
 "cells": [
  {
   "cell_type": "code",
   "execution_count": 54,
   "metadata": {},
   "outputs": [],
   "source": [
    "from keras.models import Sequential\n",
    "from keras.layers import Dense, Dropout, s\n",
    "from sklearn.preprocessing import MinMaxScaler\n",
    "import numpy as np\n",
    "import pandas as pd\n",
    "import matplotlib.pyplot as plt"
   ]
  },
  {
   "cell_type": "code",
   "execution_count": 2,
   "metadata": {},
   "outputs": [],
   "source": [
    "base = pd.read_csv('../datasets/petr4.sa-treinamento.csv')"
   ]
  },
  {
   "cell_type": "code",
   "execution_count": 4,
   "metadata": {
    "scrolled": true
   },
   "outputs": [
    {
     "data": {
      "text/html": [
       "<div>\n",
       "<style scoped>\n",
       "    .dataframe tbody tr th:only-of-type {\n",
       "        vertical-align: middle;\n",
       "    }\n",
       "\n",
       "    .dataframe tbody tr th {\n",
       "        vertical-align: top;\n",
       "    }\n",
       "\n",
       "    .dataframe thead th {\n",
       "        text-align: right;\n",
       "    }\n",
       "</style>\n",
       "<table border=\"1\" class=\"dataframe\">\n",
       "  <thead>\n",
       "    <tr style=\"text-align: right;\">\n",
       "      <th></th>\n",
       "      <th>Date</th>\n",
       "      <th>Open</th>\n",
       "      <th>High</th>\n",
       "      <th>Low</th>\n",
       "      <th>Close</th>\n",
       "      <th>Adj Close</th>\n",
       "      <th>Volume</th>\n",
       "    </tr>\n",
       "  </thead>\n",
       "  <tbody>\n",
       "    <tr>\n",
       "      <th>0</th>\n",
       "      <td>2010-12-29</td>\n",
       "      <td>26.780001</td>\n",
       "      <td>27.170000</td>\n",
       "      <td>26.780001</td>\n",
       "      <td>26.969999</td>\n",
       "      <td>23.695459</td>\n",
       "      <td>20295300.0</td>\n",
       "    </tr>\n",
       "    <tr>\n",
       "      <th>1</th>\n",
       "      <td>2010-12-30</td>\n",
       "      <td>27.290001</td>\n",
       "      <td>27.440001</td>\n",
       "      <td>27.090000</td>\n",
       "      <td>27.290001</td>\n",
       "      <td>23.976610</td>\n",
       "      <td>29619400.0</td>\n",
       "    </tr>\n",
       "    <tr>\n",
       "      <th>2</th>\n",
       "      <td>2011-01-03</td>\n",
       "      <td>27.500000</td>\n",
       "      <td>27.580000</td>\n",
       "      <td>26.910000</td>\n",
       "      <td>27.000000</td>\n",
       "      <td>23.721819</td>\n",
       "      <td>22738500.0</td>\n",
       "    </tr>\n",
       "    <tr>\n",
       "      <th>3</th>\n",
       "      <td>2011-01-04</td>\n",
       "      <td>27.010000</td>\n",
       "      <td>27.059999</td>\n",
       "      <td>26.400000</td>\n",
       "      <td>26.900000</td>\n",
       "      <td>23.633959</td>\n",
       "      <td>30936600.0</td>\n",
       "    </tr>\n",
       "    <tr>\n",
       "      <th>4</th>\n",
       "      <td>2011-01-05</td>\n",
       "      <td>26.680000</td>\n",
       "      <td>27.350000</td>\n",
       "      <td>26.580000</td>\n",
       "      <td>27.219999</td>\n",
       "      <td>23.915110</td>\n",
       "      <td>24306800.0</td>\n",
       "    </tr>\n",
       "  </tbody>\n",
       "</table>\n",
       "</div>"
      ],
      "text/plain": [
       "         Date       Open       High        Low      Close  Adj Close  \\\n",
       "0  2010-12-29  26.780001  27.170000  26.780001  26.969999  23.695459   \n",
       "1  2010-12-30  27.290001  27.440001  27.090000  27.290001  23.976610   \n",
       "2  2011-01-03  27.500000  27.580000  26.910000  27.000000  23.721819   \n",
       "3  2011-01-04  27.010000  27.059999  26.400000  26.900000  23.633959   \n",
       "4  2011-01-05  26.680000  27.350000  26.580000  27.219999  23.915110   \n",
       "\n",
       "       Volume  \n",
       "0  20295300.0  \n",
       "1  29619400.0  \n",
       "2  22738500.0  \n",
       "3  30936600.0  \n",
       "4  24306800.0  "
      ]
     },
     "execution_count": 4,
     "metadata": {},
     "output_type": "execute_result"
    }
   ],
   "source": [
    "base.head()"
   ]
  },
  {
   "cell_type": "code",
   "execution_count": 5,
   "metadata": {},
   "outputs": [
    {
     "name": "stdout",
     "output_type": "stream",
     "text": [
      "<class 'pandas.core.frame.DataFrame'>\n",
      "RangeIndex: 1886 entries, 0 to 1885\n",
      "Data columns (total 7 columns):\n",
      "Date         1886 non-null object\n",
      "Open         1844 non-null float64\n",
      "High         1844 non-null float64\n",
      "Low          1844 non-null float64\n",
      "Close        1844 non-null float64\n",
      "Adj Close    1844 non-null float64\n",
      "Volume       1844 non-null float64\n",
      "dtypes: float64(6), object(1)\n",
      "memory usage: 103.2+ KB\n"
     ]
    }
   ],
   "source": [
    "base.info()"
   ]
  },
  {
   "cell_type": "code",
   "execution_count": 6,
   "metadata": {
    "scrolled": true
   },
   "outputs": [],
   "source": [
    "base = base.dropna()"
   ]
  },
  {
   "cell_type": "code",
   "execution_count": 7,
   "metadata": {},
   "outputs": [
    {
     "name": "stdout",
     "output_type": "stream",
     "text": [
      "<class 'pandas.core.frame.DataFrame'>\n",
      "Int64Index: 1844 entries, 0 to 1885\n",
      "Data columns (total 7 columns):\n",
      "Date         1844 non-null object\n",
      "Open         1844 non-null float64\n",
      "High         1844 non-null float64\n",
      "Low          1844 non-null float64\n",
      "Close        1844 non-null float64\n",
      "Adj Close    1844 non-null float64\n",
      "Volume       1844 non-null float64\n",
      "dtypes: float64(6), object(1)\n",
      "memory usage: 115.2+ KB\n"
     ]
    }
   ],
   "source": [
    "base.info()"
   ]
  },
  {
   "cell_type": "code",
   "execution_count": 8,
   "metadata": {},
   "outputs": [
    {
     "data": {
      "text/plain": [
       "array([[26.780001],\n",
       "       [27.290001],\n",
       "       [27.5     ],\n",
       "       ...,\n",
       "       [19.6     ],\n",
       "       [19.950001],\n",
       "       [19.620001]])"
      ]
     },
     "execution_count": 8,
     "metadata": {},
     "output_type": "execute_result"
    }
   ],
   "source": [
    "base_treinamento = base.iloc[:, 1:2].values\n",
    "base_treinamento"
   ]
  },
  {
   "cell_type": "code",
   "execution_count": 9,
   "metadata": {},
   "outputs": [
    {
     "data": {
      "text/plain": [
       "MinMaxScaler(copy=True, feature_range=(0, 1))"
      ]
     },
     "execution_count": 9,
     "metadata": {},
     "output_type": "execute_result"
    }
   ],
   "source": [
    "normalizador = MinMaxScaler(feature_range=(0,1))\n",
    "normalizador"
   ]
  },
  {
   "cell_type": "code",
   "execution_count": 10,
   "metadata": {},
   "outputs": [
    {
     "data": {
      "text/plain": [
       "array([[0.91048391],\n",
       "       [0.93104843],\n",
       "       [0.93951613],\n",
       "       ...,\n",
       "       [0.62096774],\n",
       "       [0.63508069],\n",
       "       [0.62177423]])"
      ]
     },
     "execution_count": 10,
     "metadata": {},
     "output_type": "execute_result"
    }
   ],
   "source": [
    "base_treinamento_normalizada = normalizador.fit_transform(base_treinamento)\n",
    "base_treinamento_normalizada"
   ]
  },
  {
   "cell_type": "markdown",
   "metadata": {},
   "source": [
    "### escolhi a minha série temporal de 90 dias, então preciso fazer a seguinte códificação para isso, aqui é importante entender como funciona uma série temporal, para isso assista a aula ###"
   ]
  },
  {
   "cell_type": "code",
   "execution_count": 11,
   "metadata": {},
   "outputs": [],
   "source": [
    "previsores = []\n",
    "preco_real = []"
   ]
  },
  {
   "cell_type": "code",
   "execution_count": 12,
   "metadata": {},
   "outputs": [
    {
     "data": {
      "text/plain": [
       "1844"
      ]
     },
     "execution_count": 12,
     "metadata": {},
     "output_type": "execute_result"
    }
   ],
   "source": [
    "len(base_treinamento_normalizada)"
   ]
  },
  {
   "cell_type": "code",
   "execution_count": 13,
   "metadata": {},
   "outputs": [],
   "source": [
    "for i in range(90, len(base_treinamento_normalizada)):\n",
    "    # repare que divido minhas amostras em séries temporais de 90 dias e o i do for começa em 90\n",
    "    # 0 é para pegar a coluna de índice 0 \n",
    "    previsores.append(base_treinamento_normalizada[ i - 90 : i, 0 ])\n",
    "    preco_real.append(base_treinamento_normalizada[i , 0])"
   ]
  },
  {
   "cell_type": "code",
   "execution_count": 14,
   "metadata": {},
   "outputs": [
    {
     "data": {
      "text/plain": [
       "list"
      ]
     },
     "execution_count": 14,
     "metadata": {},
     "output_type": "execute_result"
    }
   ],
   "source": [
    "type(previsores)"
   ]
  },
  {
   "cell_type": "code",
   "execution_count": 15,
   "metadata": {},
   "outputs": [],
   "source": [
    "# agora é necessário transformar as lista em array numpy\n",
    "previsores, preco_real = np.array(previsores), np.array(preco_real)"
   ]
  },
  {
   "cell_type": "code",
   "execution_count": 16,
   "metadata": {},
   "outputs": [
    {
     "data": {
      "text/plain": [
       "numpy.ndarray"
      ]
     },
     "execution_count": 16,
     "metadata": {},
     "output_type": "execute_result"
    }
   ],
   "source": [
    "type(previsores)"
   ]
  },
  {
   "cell_type": "code",
   "execution_count": 17,
   "metadata": {},
   "outputs": [
    {
     "data": {
      "text/plain": [
       "array([[0.91048391, 0.93104843, 0.93951613, ..., 0.7983871 , 0.81129032,\n",
       "        0.81129032],\n",
       "       [0.93104843, 0.93951613, 0.91975806, ..., 0.81129032, 0.81129032,\n",
       "        0.81048383],\n",
       "       [0.93951613, 0.91975806, 0.90645161, ..., 0.81129032, 0.81048383,\n",
       "        0.7983871 ],\n",
       "       ...,\n",
       "       [0.68830645, 0.68467742, 0.6875    , ..., 0.61975806, 0.62903222,\n",
       "        0.63508069],\n",
       "       [0.68467742, 0.6875    , 0.71209681, ..., 0.62903222, 0.63508069,\n",
       "        0.62096774],\n",
       "       [0.6875    , 0.71209681, 0.70201617, ..., 0.63508069, 0.62096774,\n",
       "        0.63508069]])"
      ]
     },
     "execution_count": 17,
     "metadata": {},
     "output_type": "execute_result"
    }
   ],
   "source": [
    "previsores"
   ]
  },
  {
   "cell_type": "code",
   "execution_count": 18,
   "metadata": {},
   "outputs": [
    {
     "data": {
      "text/plain": [
       "array([0.81048383, 0.7983871 , 0.80120968, ..., 0.62096774, 0.63508069,\n",
       "       0.62177423])"
      ]
     },
     "execution_count": 18,
     "metadata": {},
     "output_type": "execute_result"
    }
   ],
   "source": [
    "preco_real"
   ]
  },
  {
   "cell_type": "code",
   "execution_count": 19,
   "metadata": {
    "scrolled": true
   },
   "outputs": [
    {
     "data": {
      "text/plain": [
       "array([[[0.91048391],\n",
       "        [0.93104843],\n",
       "        [0.93951613],\n",
       "        ...,\n",
       "        [0.7983871 ],\n",
       "        [0.81129032],\n",
       "        [0.81129032]],\n",
       "\n",
       "       [[0.93104843],\n",
       "        [0.93951613],\n",
       "        [0.91975806],\n",
       "        ...,\n",
       "        [0.81129032],\n",
       "        [0.81129032],\n",
       "        [0.81048383]],\n",
       "\n",
       "       [[0.93951613],\n",
       "        [0.91975806],\n",
       "        [0.90645161],\n",
       "        ...,\n",
       "        [0.81129032],\n",
       "        [0.81048383],\n",
       "        [0.7983871 ]],\n",
       "\n",
       "       ...,\n",
       "\n",
       "       [[0.68830645],\n",
       "        [0.68467742],\n",
       "        [0.6875    ],\n",
       "        ...,\n",
       "        [0.61975806],\n",
       "        [0.62903222],\n",
       "        [0.63508069]],\n",
       "\n",
       "       [[0.68467742],\n",
       "        [0.6875    ],\n",
       "        [0.71209681],\n",
       "        ...,\n",
       "        [0.62903222],\n",
       "        [0.63508069],\n",
       "        [0.62096774]],\n",
       "\n",
       "       [[0.6875    ],\n",
       "        [0.71209681],\n",
       "        [0.70201617],\n",
       "        ...,\n",
       "        [0.63508069],\n",
       "        [0.62096774],\n",
       "        [0.63508069]]])"
      ]
     },
     "execution_count": 19,
     "metadata": {},
     "output_type": "execute_result"
    }
   ],
   "source": [
    "previsores = np.reshape(previsores, (previsores.shape[0], previsores.shape[1],1))\n",
    "previsores"
   ]
  },
  {
   "cell_type": "markdown",
   "metadata": {},
   "source": [
    "## Para este tipo de rede neural é recomendado não trabalhar com poucas camadas ocultas, pois se trabalhar ele não da bons resultados ##"
   ]
  },
  {
   "cell_type": "code",
   "execution_count": 20,
   "metadata": {
    "scrolled": true
   },
   "outputs": [
    {
     "name": "stdout",
     "output_type": "stream",
     "text": [
      "Epoch 1/100\n",
      "1754/1754 [==============================] - 15s 8ms/step - loss: 0.0255 - mean_absolute_error: 0.1205\n",
      "Epoch 2/100\n",
      "1754/1754 [==============================] - 12s 7ms/step - loss: 0.0138 - mean_absolute_error: 0.0905\n",
      "Epoch 3/100\n",
      "1754/1754 [==============================] - 13s 7ms/step - loss: 0.0119 - mean_absolute_error: 0.0837\n",
      "Epoch 4/100\n",
      "1754/1754 [==============================] - 23s 13ms/step - loss: 0.0100 - mean_absolute_error: 0.0758\n",
      "Epoch 5/100\n",
      "1754/1754 [==============================] - 17s 10ms/step - loss: 0.0084 - mean_absolute_error: 0.0697\n",
      "Epoch 6/100\n",
      "1754/1754 [==============================] - 14s 8ms/step - loss: 0.0070 - mean_absolute_error: 0.0632\n",
      "Epoch 7/100\n",
      "1754/1754 [==============================] - 14s 8ms/step - loss: 0.0064 - mean_absolute_error: 0.0600\n",
      "Epoch 8/100\n",
      "1754/1754 [==============================] - 13s 7ms/step - loss: 0.0061 - mean_absolute_error: 0.0592\n",
      "Epoch 9/100\n",
      "1754/1754 [==============================] - 15s 8ms/step - loss: 0.0054 - mean_absolute_error: 0.0552\n",
      "Epoch 10/100\n",
      "1754/1754 [==============================] - 15s 9ms/step - loss: 0.0056 - mean_absolute_error: 0.0558\n",
      "Epoch 11/100\n",
      "1754/1754 [==============================] - 16s 9ms/step - loss: 0.0048 - mean_absolute_error: 0.0530\n",
      "Epoch 12/100\n",
      "1754/1754 [==============================] - 13s 7ms/step - loss: 0.0045 - mean_absolute_error: 0.0514\n",
      "Epoch 13/100\n",
      "1754/1754 [==============================] - 17s 10ms/step - loss: 0.0041 - mean_absolute_error: 0.0489\n",
      "Epoch 14/100\n",
      "1754/1754 [==============================] - 18s 10ms/step - loss: 0.0039 - mean_absolute_error: 0.0477\n",
      "Epoch 15/100\n",
      "1754/1754 [==============================] - 16s 9ms/step - loss: 0.0038 - mean_absolute_error: 0.0472\n",
      "Epoch 16/100\n",
      "1754/1754 [==============================] - 13s 7ms/step - loss: 0.0036 - mean_absolute_error: 0.0456\n",
      "Epoch 17/100\n",
      "1754/1754 [==============================] - 13s 7ms/step - loss: 0.0036 - mean_absolute_error: 0.0453\n",
      "Epoch 18/100\n",
      "1754/1754 [==============================] - 15s 8ms/step - loss: 0.0034 - mean_absolute_error: 0.0448\n",
      "Epoch 19/100\n",
      "1754/1754 [==============================] - 14s 8ms/step - loss: 0.0031 - mean_absolute_error: 0.0423\n",
      "Epoch 20/100\n",
      "1754/1754 [==============================] - 13s 8ms/step - loss: 0.0030 - mean_absolute_error: 0.0424\n",
      "Epoch 21/100\n",
      "1754/1754 [==============================] - 14s 8ms/step - loss: 0.0030 - mean_absolute_error: 0.0420\n",
      "Epoch 22/100\n",
      "1754/1754 [==============================] - 14s 8ms/step - loss: 0.0029 - mean_absolute_error: 0.0412\n",
      "Epoch 23/100\n",
      "1754/1754 [==============================] - 13s 8ms/step - loss: 0.0029 - mean_absolute_error: 0.0414\n",
      "Epoch 24/100\n",
      "1754/1754 [==============================] - 13s 8ms/step - loss: 0.0026 - mean_absolute_error: 0.0392\n",
      "Epoch 25/100\n",
      "1754/1754 [==============================] - 13s 7ms/step - loss: 0.0028 - mean_absolute_error: 0.0398\n",
      "Epoch 26/100\n",
      "1754/1754 [==============================] - 13s 8ms/step - loss: 0.0025 - mean_absolute_error: 0.0385\n",
      "Epoch 27/100\n",
      "1754/1754 [==============================] - 13s 7ms/step - loss: 0.0023 - mean_absolute_error: 0.0373\n",
      "Epoch 28/100\n",
      "1754/1754 [==============================] - 12s 7ms/step - loss: 0.0024 - mean_absolute_error: 0.0370\n",
      "Epoch 29/100\n",
      "1754/1754 [==============================] - 12s 7ms/step - loss: 0.0024 - mean_absolute_error: 0.0382\n",
      "Epoch 30/100\n",
      "1754/1754 [==============================] - 12s 7ms/step - loss: 0.0022 - mean_absolute_error: 0.0361\n",
      "Epoch 31/100\n",
      "1754/1754 [==============================] - 12s 7ms/step - loss: 0.0021 - mean_absolute_error: 0.0350\n",
      "Epoch 32/100\n",
      "1754/1754 [==============================] - 12s 7ms/step - loss: 0.0021 - mean_absolute_error: 0.0346\n",
      "Epoch 33/100\n",
      "1754/1754 [==============================] - 12s 7ms/step - loss: 0.0021 - mean_absolute_error: 0.0353\n",
      "Epoch 34/100\n",
      "1754/1754 [==============================] - 12s 7ms/step - loss: 0.0022 - mean_absolute_error: 0.0354\n",
      "Epoch 35/100\n",
      "1754/1754 [==============================] - 12s 7ms/step - loss: 0.0021 - mean_absolute_error: 0.0346\n",
      "Epoch 36/100\n",
      "1754/1754 [==============================] - 12s 7ms/step - loss: 0.0020 - mean_absolute_error: 0.0339\n",
      "Epoch 37/100\n",
      "1754/1754 [==============================] - 12s 7ms/step - loss: 0.0020 - mean_absolute_error: 0.0337\n",
      "Epoch 38/100\n",
      "1754/1754 [==============================] - 12s 7ms/step - loss: 0.0020 - mean_absolute_error: 0.0341\n",
      "Epoch 39/100\n",
      "1754/1754 [==============================] - 13s 7ms/step - loss: 0.0020 - mean_absolute_error: 0.0344\n",
      "Epoch 40/100\n",
      "1754/1754 [==============================] - 12s 7ms/step - loss: 0.0017 - mean_absolute_error: 0.0319\n",
      "Epoch 41/100\n",
      "1754/1754 [==============================] - 12s 7ms/step - loss: 0.0019 - mean_absolute_error: 0.0329\n",
      "Epoch 42/100\n",
      "1754/1754 [==============================] - 12s 7ms/step - loss: 0.0018 - mean_absolute_error: 0.0320\n",
      "Epoch 43/100\n",
      "1754/1754 [==============================] - 13s 7ms/step - loss: 0.0017 - mean_absolute_error: 0.0315\n",
      "Epoch 44/100\n",
      "1754/1754 [==============================] - 13s 8ms/step - loss: 0.0017 - mean_absolute_error: 0.0309\n",
      "Epoch 45/100\n",
      "1754/1754 [==============================] - 12s 7ms/step - loss: 0.0017 - mean_absolute_error: 0.0313\n",
      "Epoch 46/100\n",
      "1754/1754 [==============================] - 13s 7ms/step - loss: 0.0017 - mean_absolute_error: 0.0314\n",
      "Epoch 47/100\n",
      "1754/1754 [==============================] - 12s 7ms/step - loss: 0.0016 - mean_absolute_error: 0.0308\n",
      "Epoch 48/100\n",
      "1754/1754 [==============================] - 12s 7ms/step - loss: 0.0017 - mean_absolute_error: 0.0307\n",
      "Epoch 49/100\n",
      "1754/1754 [==============================] - 12s 7ms/step - loss: 0.0015 - mean_absolute_error: 0.0296\n",
      "Epoch 50/100\n",
      "1754/1754 [==============================] - 12s 7ms/step - loss: 0.0016 - mean_absolute_error: 0.0303\n",
      "Epoch 51/100\n",
      "1754/1754 [==============================] - 13s 7ms/step - loss: 0.0016 - mean_absolute_error: 0.0308\n",
      "Epoch 52/100\n",
      "1754/1754 [==============================] - 13s 7ms/step - loss: 0.0016 - mean_absolute_error: 0.0300\n",
      "Epoch 53/100\n",
      "1754/1754 [==============================] - 13s 8ms/step - loss: 0.0016 - mean_absolute_error: 0.0303\n",
      "Epoch 54/100\n",
      "1754/1754 [==============================] - 12s 7ms/step - loss: 0.0015 - mean_absolute_error: 0.0293\n",
      "Epoch 55/100\n",
      "1754/1754 [==============================] - 13s 7ms/step - loss: 0.0016 - mean_absolute_error: 0.0295\n",
      "Epoch 56/100\n",
      "1754/1754 [==============================] - 12s 7ms/step - loss: 0.0016 - mean_absolute_error: 0.0305\n",
      "Epoch 57/100\n",
      "1754/1754 [==============================] - 12s 7ms/step - loss: 0.0014 - mean_absolute_error: 0.0281\n",
      "Epoch 58/100\n",
      "1754/1754 [==============================] - 12s 7ms/step - loss: 0.0016 - mean_absolute_error: 0.0302\n",
      "Epoch 59/100\n",
      "1754/1754 [==============================] - 12s 7ms/step - loss: 0.0014 - mean_absolute_error: 0.0277\n",
      "Epoch 60/100\n",
      "1754/1754 [==============================] - 12s 7ms/step - loss: 0.0015 - mean_absolute_error: 0.0297\n",
      "Epoch 61/100\n",
      "1754/1754 [==============================] - 12s 7ms/step - loss: 0.0015 - mean_absolute_error: 0.0287\n",
      "Epoch 62/100\n",
      "1754/1754 [==============================] - 12s 7ms/step - loss: 0.0014 - mean_absolute_error: 0.0282\n",
      "Epoch 63/100\n",
      "1754/1754 [==============================] - 12s 7ms/step - loss: 0.0014 - mean_absolute_error: 0.0279\n",
      "Epoch 64/100\n",
      "1754/1754 [==============================] - 13s 7ms/step - loss: 0.0014 - mean_absolute_error: 0.0278\n",
      "Epoch 65/100\n",
      "1754/1754 [==============================] - 12s 7ms/step - loss: 0.0014 - mean_absolute_error: 0.0280\n",
      "Epoch 66/100\n",
      "1754/1754 [==============================] - 12s 7ms/step - loss: 0.0014 - mean_absolute_error: 0.0282\n",
      "Epoch 67/100\n",
      "1754/1754 [==============================] - 12s 7ms/step - loss: 0.0013 - mean_absolute_error: 0.0265\n",
      "Epoch 68/100\n",
      "1754/1754 [==============================] - 12s 7ms/step - loss: 0.0014 - mean_absolute_error: 0.0287\n",
      "Epoch 69/100\n",
      "1754/1754 [==============================] - 12s 7ms/step - loss: 0.0014 - mean_absolute_error: 0.0277\n",
      "Epoch 70/100\n",
      "1754/1754 [==============================] - 12s 7ms/step - loss: 0.0013 - mean_absolute_error: 0.0274\n",
      "Epoch 71/100\n",
      "1754/1754 [==============================] - 13s 7ms/step - loss: 0.0013 - mean_absolute_error: 0.0272\n",
      "Epoch 72/100\n",
      "1754/1754 [==============================] - 12s 7ms/step - loss: 0.0014 - mean_absolute_error: 0.0280\n",
      "Epoch 73/100\n",
      "1754/1754 [==============================] - 12s 7ms/step - loss: 0.0013 - mean_absolute_error: 0.0265\n",
      "Epoch 74/100\n",
      "1754/1754 [==============================] - 12s 7ms/step - loss: 0.0014 - mean_absolute_error: 0.0278\n",
      "Epoch 75/100\n",
      "1754/1754 [==============================] - 12s 7ms/step - loss: 0.0013 - mean_absolute_error: 0.0269\n",
      "Epoch 76/100\n",
      "1754/1754 [==============================] - 12s 7ms/step - loss: 0.0013 - mean_absolute_error: 0.0274\n",
      "Epoch 77/100\n",
      "1754/1754 [==============================] - 12s 7ms/step - loss: 0.0013 - mean_absolute_error: 0.0266\n",
      "Epoch 78/100\n",
      "1754/1754 [==============================] - 12s 7ms/step - loss: 0.0013 - mean_absolute_error: 0.0272\n",
      "Epoch 79/100\n",
      "1754/1754 [==============================] - 12s 7ms/step - loss: 0.0012 - mean_absolute_error: 0.0264\n",
      "Epoch 80/100\n",
      "1754/1754 [==============================] - 12s 7ms/step - loss: 0.0012 - mean_absolute_error: 0.0264\n",
      "Epoch 81/100\n",
      "1754/1754 [==============================] - 12s 7ms/step - loss: 0.0012 - mean_absolute_error: 0.0268\n",
      "Epoch 82/100\n",
      "1754/1754 [==============================] - 13s 7ms/step - loss: 0.0012 - mean_absolute_error: 0.0260\n",
      "Epoch 83/100\n",
      "1754/1754 [==============================] - 12s 7ms/step - loss: 0.0013 - mean_absolute_error: 0.0273\n",
      "Epoch 84/100\n",
      "1754/1754 [==============================] - 12s 7ms/step - loss: 0.0013 - mean_absolute_error: 0.0275\n",
      "Epoch 85/100\n",
      "1754/1754 [==============================] - 12s 7ms/step - loss: 0.0011 - mean_absolute_error: 0.0251\n",
      "Epoch 86/100\n",
      "1754/1754 [==============================] - 12s 7ms/step - loss: 0.0012 - mean_absolute_error: 0.0259\n",
      "Epoch 87/100\n",
      "1754/1754 [==============================] - 12s 7ms/step - loss: 0.0012 - mean_absolute_error: 0.0263\n",
      "Epoch 88/100\n",
      "1754/1754 [==============================] - 12s 7ms/step - loss: 0.0013 - mean_absolute_error: 0.0265\n",
      "Epoch 89/100\n",
      "1754/1754 [==============================] - 12s 7ms/step - loss: 0.0012 - mean_absolute_error: 0.0261\n",
      "Epoch 90/100\n",
      "1754/1754 [==============================] - 12s 7ms/step - loss: 0.0012 - mean_absolute_error: 0.0257\n",
      "Epoch 91/100\n",
      "1754/1754 [==============================] - 12s 7ms/step - loss: 0.0012 - mean_absolute_error: 0.0261\n",
      "Epoch 92/100\n",
      "1754/1754 [==============================] - 12s 7ms/step - loss: 0.0012 - mean_absolute_error: 0.0259\n",
      "Epoch 93/100\n",
      "1754/1754 [==============================] - 12s 7ms/step - loss: 0.0012 - mean_absolute_error: 0.0260\n",
      "Epoch 94/100\n",
      "1754/1754 [==============================] - 12s 7ms/step - loss: 0.0012 - mean_absolute_error: 0.0260\n",
      "Epoch 95/100\n",
      "1754/1754 [==============================] - 12s 7ms/step - loss: 0.0012 - mean_absolute_error: 0.0262\n",
      "Epoch 96/100\n",
      "1754/1754 [==============================] - 12s 7ms/step - loss: 0.0012 - mean_absolute_error: 0.0258\n",
      "Epoch 97/100\n",
      "1754/1754 [==============================] - 12s 7ms/step - loss: 0.0012 - mean_absolute_error: 0.0259\n",
      "Epoch 98/100\n",
      "1754/1754 [==============================] - 12s 7ms/step - loss: 0.0012 - mean_absolute_error: 0.0257\n",
      "Epoch 99/100\n",
      "1754/1754 [==============================] - 12s 7ms/step - loss: 0.0011 - mean_absolute_error: 0.0251\n",
      "Epoch 100/100\n",
      "1754/1754 [==============================] - 12s 7ms/step - loss: 0.0012 - mean_absolute_error: 0.0265\n"
     ]
    },
    {
     "data": {
      "text/plain": [
       "<keras.callbacks.History at 0x7f0745670d30>"
      ]
     },
     "execution_count": 20,
     "metadata": {},
     "output_type": "execute_result"
    }
   ],
   "source": [
    "rede = Sequential()\n",
    "# neste caso o units é o número de celulas de mémoria, e ele deve ser grande para capturar mais dimensionalidade e \n",
    "# capturar a tendência \n",
    "# return_sequences = True é utilizado quando teremos mais de uma camada LSTM assim ela passa a informação para a próxima\n",
    "# camada,\n",
    "# input_shape()\n",
    "rede.add(LSTM(units = 100, return_sequences= True, input_shape = (previsores.shape[1],1)))\n",
    "rede.add(Dropout(0.3))\n",
    "\n",
    "\n",
    "# a quantidade de neurônios pode variar de camáda para camada \n",
    "rede.add(LSTM(units = 50, return_sequences= True, input_shape = (previsores.shape[1],1)))\n",
    "rede.add(Dropout(0.3))\n",
    "\n",
    "rede.add(LSTM(units = 50, return_sequences= True, input_shape = (previsores.shape[1],1)))\n",
    "rede.add(Dropout(0.3))\n",
    "\n",
    "\n",
    "# a última camada recorrente não pode ter o parâmetro\n",
    "rede.add(LSTM(units = 50, input_shape = (previsores.shape[1],1)))\n",
    "rede.add(Dropout(0.3))\n",
    "\n",
    "# adicionando a camada de saída, do tipo densa, ou seja todos os neurônios da última camada recorrente estarão ligados \n",
    "# a todos os neurônios da camada de saída\n",
    "# a camada de saída tera uma unica saída (um único neurônio), já que precisamos da previsão de somente um valor\n",
    "# neste caso precisamos que a saída seja 0 ou 1 então o linear ou sigmoid são uma opção \n",
    "rede.add(Dense(units = 1, activation = 'linear'))\n",
    "\n",
    "# com o metrics = ['mean_absolute_error'] fica mais fácil para visualizarmos o resultado  \n",
    "\n",
    "rede.compile(optimizer = 'rmsprop',\n",
    "             loss = 'mean_squared_error',\n",
    "             metrics = ['mean_absolute_error'])\n",
    "\n",
    "rede.fit(previsores, preco_real, epochs = 100, batch_size = 32)"
   ]
  },
  {
   "cell_type": "code",
   "execution_count": 22,
   "metadata": {},
   "outputs": [],
   "source": [
    "base_teste = pd.read_csv('../datasets/petr4-teste.csv')"
   ]
  },
  {
   "cell_type": "code",
   "execution_count": 24,
   "metadata": {},
   "outputs": [
    {
     "data": {
      "text/html": [
       "<div>\n",
       "<style scoped>\n",
       "    .dataframe tbody tr th:only-of-type {\n",
       "        vertical-align: middle;\n",
       "    }\n",
       "\n",
       "    .dataframe tbody tr th {\n",
       "        vertical-align: top;\n",
       "    }\n",
       "\n",
       "    .dataframe thead th {\n",
       "        text-align: right;\n",
       "    }\n",
       "</style>\n",
       "<table border=\"1\" class=\"dataframe\">\n",
       "  <thead>\n",
       "    <tr style=\"text-align: right;\">\n",
       "      <th></th>\n",
       "      <th>Date</th>\n",
       "      <th>Open</th>\n",
       "      <th>High</th>\n",
       "      <th>Low</th>\n",
       "      <th>Close</th>\n",
       "      <th>Adj Close</th>\n",
       "      <th>Volume</th>\n",
       "    </tr>\n",
       "  </thead>\n",
       "  <tbody>\n",
       "    <tr>\n",
       "      <th>0</th>\n",
       "      <td>2018-08-01</td>\n",
       "      <td>19.59</td>\n",
       "      <td>20.010000</td>\n",
       "      <td>19.540001</td>\n",
       "      <td>20.010000</td>\n",
       "      <td>19.234995</td>\n",
       "      <td>39141700.0</td>\n",
       "    </tr>\n",
       "    <tr>\n",
       "      <th>1</th>\n",
       "      <td>2018-08-02</td>\n",
       "      <td>19.99</td>\n",
       "      <td>20.780001</td>\n",
       "      <td>19.950001</td>\n",
       "      <td>20.410000</td>\n",
       "      <td>19.619503</td>\n",
       "      <td>69008900.0</td>\n",
       "    </tr>\n",
       "    <tr>\n",
       "      <th>2</th>\n",
       "      <td>2018-08-03</td>\n",
       "      <td>21.40</td>\n",
       "      <td>21.549999</td>\n",
       "      <td>21.090000</td>\n",
       "      <td>21.110001</td>\n",
       "      <td>20.292391</td>\n",
       "      <td>86908000.0</td>\n",
       "    </tr>\n",
       "    <tr>\n",
       "      <th>3</th>\n",
       "      <td>2018-08-06</td>\n",
       "      <td>21.15</td>\n",
       "      <td>21.469999</td>\n",
       "      <td>20.980000</td>\n",
       "      <td>21.040001</td>\n",
       "      <td>20.225101</td>\n",
       "      <td>44528300.0</td>\n",
       "    </tr>\n",
       "    <tr>\n",
       "      <th>4</th>\n",
       "      <td>2018-08-07</td>\n",
       "      <td>21.33</td>\n",
       "      <td>21.459999</td>\n",
       "      <td>20.570000</td>\n",
       "      <td>20.709999</td>\n",
       "      <td>19.907881</td>\n",
       "      <td>69136700.0</td>\n",
       "    </tr>\n",
       "  </tbody>\n",
       "</table>\n",
       "</div>"
      ],
      "text/plain": [
       "         Date   Open       High        Low      Close  Adj Close      Volume\n",
       "0  2018-08-01  19.59  20.010000  19.540001  20.010000  19.234995  39141700.0\n",
       "1  2018-08-02  19.99  20.780001  19.950001  20.410000  19.619503  69008900.0\n",
       "2  2018-08-03  21.40  21.549999  21.090000  21.110001  20.292391  86908000.0\n",
       "3  2018-08-06  21.15  21.469999  20.980000  21.040001  20.225101  44528300.0\n",
       "4  2018-08-07  21.33  21.459999  20.570000  20.709999  19.907881  69136700.0"
      ]
     },
     "execution_count": 24,
     "metadata": {},
     "output_type": "execute_result"
    }
   ],
   "source": [
    "base_teste.head()"
   ]
  },
  {
   "cell_type": "code",
   "execution_count": 25,
   "metadata": {},
   "outputs": [
    {
     "data": {
      "text/plain": [
       "Date         0\n",
       "Open         3\n",
       "High         3\n",
       "Low          3\n",
       "Close        3\n",
       "Adj Close    3\n",
       "Volume       3\n",
       "dtype: int64"
      ]
     },
     "execution_count": 25,
     "metadata": {},
     "output_type": "execute_result"
    }
   ],
   "source": [
    "base_teste.isnull().sum()"
   ]
  },
  {
   "cell_type": "code",
   "execution_count": 26,
   "metadata": {},
   "outputs": [],
   "source": [
    "base_teste = base_teste.dropna()"
   ]
  },
  {
   "cell_type": "code",
   "execution_count": 28,
   "metadata": {},
   "outputs": [
    {
     "data": {
      "text/html": [
       "<div>\n",
       "<style scoped>\n",
       "    .dataframe tbody tr th:only-of-type {\n",
       "        vertical-align: middle;\n",
       "    }\n",
       "\n",
       "    .dataframe tbody tr th {\n",
       "        vertical-align: top;\n",
       "    }\n",
       "\n",
       "    .dataframe thead th {\n",
       "        text-align: right;\n",
       "    }\n",
       "</style>\n",
       "<table border=\"1\" class=\"dataframe\">\n",
       "  <thead>\n",
       "    <tr style=\"text-align: right;\">\n",
       "      <th></th>\n",
       "      <th>Date</th>\n",
       "      <th>Open</th>\n",
       "      <th>High</th>\n",
       "      <th>Low</th>\n",
       "      <th>Close</th>\n",
       "      <th>Adj Close</th>\n",
       "      <th>Volume</th>\n",
       "    </tr>\n",
       "  </thead>\n",
       "  <tbody>\n",
       "    <tr>\n",
       "      <th>0</th>\n",
       "      <td>2018-08-01</td>\n",
       "      <td>19.59</td>\n",
       "      <td>20.010000</td>\n",
       "      <td>19.540001</td>\n",
       "      <td>20.010000</td>\n",
       "      <td>19.234995</td>\n",
       "      <td>39141700.0</td>\n",
       "    </tr>\n",
       "    <tr>\n",
       "      <th>1</th>\n",
       "      <td>2018-08-02</td>\n",
       "      <td>19.99</td>\n",
       "      <td>20.780001</td>\n",
       "      <td>19.950001</td>\n",
       "      <td>20.410000</td>\n",
       "      <td>19.619503</td>\n",
       "      <td>69008900.0</td>\n",
       "    </tr>\n",
       "    <tr>\n",
       "      <th>2</th>\n",
       "      <td>2018-08-03</td>\n",
       "      <td>21.40</td>\n",
       "      <td>21.549999</td>\n",
       "      <td>21.090000</td>\n",
       "      <td>21.110001</td>\n",
       "      <td>20.292391</td>\n",
       "      <td>86908000.0</td>\n",
       "    </tr>\n",
       "    <tr>\n",
       "      <th>3</th>\n",
       "      <td>2018-08-06</td>\n",
       "      <td>21.15</td>\n",
       "      <td>21.469999</td>\n",
       "      <td>20.980000</td>\n",
       "      <td>21.040001</td>\n",
       "      <td>20.225101</td>\n",
       "      <td>44528300.0</td>\n",
       "    </tr>\n",
       "    <tr>\n",
       "      <th>4</th>\n",
       "      <td>2018-08-07</td>\n",
       "      <td>21.33</td>\n",
       "      <td>21.459999</td>\n",
       "      <td>20.570000</td>\n",
       "      <td>20.709999</td>\n",
       "      <td>19.907881</td>\n",
       "      <td>69136700.0</td>\n",
       "    </tr>\n",
       "  </tbody>\n",
       "</table>\n",
       "</div>"
      ],
      "text/plain": [
       "         Date   Open       High        Low      Close  Adj Close      Volume\n",
       "0  2018-08-01  19.59  20.010000  19.540001  20.010000  19.234995  39141700.0\n",
       "1  2018-08-02  19.99  20.780001  19.950001  20.410000  19.619503  69008900.0\n",
       "2  2018-08-03  21.40  21.549999  21.090000  21.110001  20.292391  86908000.0\n",
       "3  2018-08-06  21.15  21.469999  20.980000  21.040001  20.225101  44528300.0\n",
       "4  2018-08-07  21.33  21.459999  20.570000  20.709999  19.907881  69136700.0"
      ]
     },
     "execution_count": 28,
     "metadata": {},
     "output_type": "execute_result"
    }
   ],
   "source": [
    "base_teste.head()"
   ]
  },
  {
   "cell_type": "code",
   "execution_count": 29,
   "metadata": {},
   "outputs": [],
   "source": [
    "preco_real_teste = base_teste.iloc[:,1:2].values"
   ]
  },
  {
   "cell_type": "code",
   "execution_count": 33,
   "metadata": {},
   "outputs": [
    {
     "data": {
      "text/plain": [
       "array([[19.59],\n",
       "       [19.99],\n",
       "       [21.4 ],\n",
       "       [21.15],\n",
       "       [21.33]])"
      ]
     },
     "execution_count": 33,
     "metadata": {},
     "output_type": "execute_result"
    }
   ],
   "source": [
    "preco_real_teste[:5]"
   ]
  },
  {
   "cell_type": "code",
   "execution_count": 34,
   "metadata": {},
   "outputs": [
    {
     "data": {
      "text/html": [
       "<div>\n",
       "<style scoped>\n",
       "    .dataframe tbody tr th:only-of-type {\n",
       "        vertical-align: middle;\n",
       "    }\n",
       "\n",
       "    .dataframe tbody tr th {\n",
       "        vertical-align: top;\n",
       "    }\n",
       "\n",
       "    .dataframe thead th {\n",
       "        text-align: right;\n",
       "    }\n",
       "</style>\n",
       "<table border=\"1\" class=\"dataframe\">\n",
       "  <thead>\n",
       "    <tr style=\"text-align: right;\">\n",
       "      <th></th>\n",
       "      <th>Date</th>\n",
       "      <th>Open</th>\n",
       "      <th>High</th>\n",
       "      <th>Low</th>\n",
       "      <th>Close</th>\n",
       "      <th>Adj Close</th>\n",
       "      <th>Volume</th>\n",
       "    </tr>\n",
       "  </thead>\n",
       "  <tbody>\n",
       "    <tr>\n",
       "      <th>0</th>\n",
       "      <td>2010-12-29</td>\n",
       "      <td>26.780001</td>\n",
       "      <td>27.170000</td>\n",
       "      <td>26.780001</td>\n",
       "      <td>26.969999</td>\n",
       "      <td>23.695459</td>\n",
       "      <td>20295300.0</td>\n",
       "    </tr>\n",
       "    <tr>\n",
       "      <th>1</th>\n",
       "      <td>2010-12-30</td>\n",
       "      <td>27.290001</td>\n",
       "      <td>27.440001</td>\n",
       "      <td>27.090000</td>\n",
       "      <td>27.290001</td>\n",
       "      <td>23.976610</td>\n",
       "      <td>29619400.0</td>\n",
       "    </tr>\n",
       "    <tr>\n",
       "      <th>2</th>\n",
       "      <td>2011-01-03</td>\n",
       "      <td>27.500000</td>\n",
       "      <td>27.580000</td>\n",
       "      <td>26.910000</td>\n",
       "      <td>27.000000</td>\n",
       "      <td>23.721819</td>\n",
       "      <td>22738500.0</td>\n",
       "    </tr>\n",
       "    <tr>\n",
       "      <th>3</th>\n",
       "      <td>2011-01-04</td>\n",
       "      <td>27.010000</td>\n",
       "      <td>27.059999</td>\n",
       "      <td>26.400000</td>\n",
       "      <td>26.900000</td>\n",
       "      <td>23.633959</td>\n",
       "      <td>30936600.0</td>\n",
       "    </tr>\n",
       "    <tr>\n",
       "      <th>4</th>\n",
       "      <td>2011-01-05</td>\n",
       "      <td>26.680000</td>\n",
       "      <td>27.350000</td>\n",
       "      <td>26.580000</td>\n",
       "      <td>27.219999</td>\n",
       "      <td>23.915110</td>\n",
       "      <td>24306800.0</td>\n",
       "    </tr>\n",
       "  </tbody>\n",
       "</table>\n",
       "</div>"
      ],
      "text/plain": [
       "         Date       Open       High        Low      Close  Adj Close  \\\n",
       "0  2010-12-29  26.780001  27.170000  26.780001  26.969999  23.695459   \n",
       "1  2010-12-30  27.290001  27.440001  27.090000  27.290001  23.976610   \n",
       "2  2011-01-03  27.500000  27.580000  26.910000  27.000000  23.721819   \n",
       "3  2011-01-04  27.010000  27.059999  26.400000  26.900000  23.633959   \n",
       "4  2011-01-05  26.680000  27.350000  26.580000  27.219999  23.915110   \n",
       "\n",
       "       Volume  \n",
       "0  20295300.0  \n",
       "1  29619400.0  \n",
       "2  22738500.0  \n",
       "3  30936600.0  \n",
       "4  24306800.0  "
      ]
     },
     "execution_count": 34,
     "metadata": {},
     "output_type": "execute_result"
    }
   ],
   "source": [
    "base[:5]"
   ]
  },
  {
   "cell_type": "code",
   "execution_count": 35,
   "metadata": {
    "scrolled": true
   },
   "outputs": [
    {
     "data": {
      "text/plain": [
       "1942"
      ]
     },
     "execution_count": 35,
     "metadata": {},
     "output_type": "execute_result"
    }
   ],
   "source": [
    "# como a base de teste não esta junto com a base de treinamento, e nem poderia, devo concatenar essas duas partes\n",
    "base_completa = pd.concat((base['Open'], base_teste['Open']), axis=0)\n",
    "len(base_completa)"
   ]
  },
  {
   "cell_type": "code",
   "execution_count": 38,
   "metadata": {
    "scrolled": true
   },
   "outputs": [
    {
     "data": {
      "text/plain": [
       "96     22.309999\n",
       "97     21.400000\n",
       "98     20.590000\n",
       "99     21.520000\n",
       "100    22.110001\n",
       "Name: Open, dtype: float64"
      ]
     },
     "execution_count": 38,
     "metadata": {},
     "output_type": "execute_result"
    }
   ],
   "source": [
    "base_completa[-5:]"
   ]
  },
  {
   "cell_type": "code",
   "execution_count": 39,
   "metadata": {},
   "outputs": [
    {
     "data": {
      "text/plain": [
       "188"
      ]
     },
     "execution_count": 39,
     "metadata": {},
     "output_type": "execute_result"
    }
   ],
   "source": [
    "entradas = base_completa[len(base_completa) - len(base_teste) - 90 : ].values\n",
    "len(entradas)"
   ]
  },
  {
   "cell_type": "code",
   "execution_count": 40,
   "metadata": {},
   "outputs": [
    {
     "data": {
      "text/plain": [
       "(188, 1)"
      ]
     },
     "execution_count": 40,
     "metadata": {},
     "output_type": "execute_result"
    }
   ],
   "source": [
    "# é preciso transformar em 2d esse valor\n",
    "# o -1 significa que não quero mexer nas linhas\n",
    "entradas = entradas.reshape(-1,1)\n",
    "entradas.shape"
   ]
  },
  {
   "cell_type": "code",
   "execution_count": 41,
   "metadata": {
    "scrolled": true
   },
   "outputs": [
    {
     "data": {
      "text/plain": [
       "array([[0.71209681],\n",
       "       [0.70201617],\n",
       "       [0.72056452],\n",
       "       [0.72338706],\n",
       "       [0.68790323],\n",
       "       [0.68790323],\n",
       "       [0.69193552],\n",
       "       [0.68185488],\n",
       "       [0.64959673],\n",
       "       [0.68346774],\n",
       "       [0.6766129 ],\n",
       "       [0.69475806],\n",
       "       [0.67379032],\n",
       "       [0.69153226],\n",
       "       [0.70927423],\n",
       "       [0.70322577],\n",
       "       [0.67943544],\n",
       "       [0.66532262],\n",
       "       [0.69153226],\n",
       "       [0.72056452],\n",
       "       [0.72016125],\n",
       "       [0.72137097],\n",
       "       [0.74193548],\n",
       "       [0.71814516],\n",
       "       [0.71774194],\n",
       "       [0.7516129 ],\n",
       "       [0.74717742],\n",
       "       [0.74475806],\n",
       "       [0.73951617],\n",
       "       [0.73588714],\n",
       "       [0.74072581],\n",
       "       [0.76048383],\n",
       "       [0.77016125],\n",
       "       [0.8443548 ],\n",
       "       [0.87217742],\n",
       "       [0.87298387],\n",
       "       [0.89314516],\n",
       "       [0.91411294],\n",
       "       [0.93346774],\n",
       "       [0.8391129 ],\n",
       "       [0.88306452],\n",
       "       [0.83104835],\n",
       "       [0.80766129],\n",
       "       [0.63911286],\n",
       "       [0.66330645],\n",
       "       [0.60483875],\n",
       "       [0.55645161],\n",
       "       [0.57217738],\n",
       "       [0.6193548 ],\n",
       "       [0.52782262],\n",
       "       [0.5306452 ],\n",
       "       [0.49475802],\n",
       "       [0.47580645],\n",
       "       [0.46814516],\n",
       "       [0.45564516],\n",
       "       [0.45483871],\n",
       "       [0.45241935],\n",
       "       [0.44879032],\n",
       "       [0.43669355],\n",
       "       [0.42620968],\n",
       "       [0.40564516],\n",
       "       [0.46935484],\n",
       "       [0.47943548],\n",
       "       [0.45201613],\n",
       "       [0.44354839],\n",
       "       [0.47177419],\n",
       "       [0.47983871],\n",
       "       [0.50483867],\n",
       "       [0.51008065],\n",
       "       [0.51572581],\n",
       "       [0.54596774],\n",
       "       [0.53145157],\n",
       "       [0.58064516],\n",
       "       [0.5552419 ],\n",
       "       [0.57016129],\n",
       "       [0.5358871 ],\n",
       "       [0.54112907],\n",
       "       [0.55604839],\n",
       "       [0.55443552],\n",
       "       [0.54798391],\n",
       "       [0.56653226],\n",
       "       [0.55      ],\n",
       "       [0.60362903],\n",
       "       [0.60887093],\n",
       "       [0.61975806],\n",
       "       [0.62903222],\n",
       "       [0.63508069],\n",
       "       [0.62096774],\n",
       "       [0.63508069],\n",
       "       [0.62177423],\n",
       "       [0.62056452],\n",
       "       [0.63669355],\n",
       "       [0.69354839],\n",
       "       [0.68346774],\n",
       "       [0.69072581],\n",
       "       [0.66975802],\n",
       "       [0.64758065],\n",
       "       [0.64112903],\n",
       "       [0.61693548],\n",
       "       [0.64838714],\n",
       "       [0.6225806 ],\n",
       "       [0.60967742],\n",
       "       [0.58669355],\n",
       "       [0.57137101],\n",
       "       [0.56733871],\n",
       "       [0.54435488],\n",
       "       [0.57056452],\n",
       "       [0.57056452],\n",
       "       [0.57298387],\n",
       "       [0.58709677],\n",
       "       [0.5766129 ],\n",
       "       [0.60282258],\n",
       "       [0.5947581 ],\n",
       "       [0.59637097],\n",
       "       [0.60201609],\n",
       "       [0.57903222],\n",
       "       [0.59637097],\n",
       "       [0.61129036],\n",
       "       [0.5915323 ],\n",
       "       [0.58911286],\n",
       "       [0.59798391],\n",
       "       [0.58870964],\n",
       "       [0.5818548 ],\n",
       "       [0.61693548],\n",
       "       [0.63427419],\n",
       "       [0.64758065],\n",
       "       [0.64314516],\n",
       "       [0.64516133],\n",
       "       [0.62500004],\n",
       "       [0.64677419],\n",
       "       [0.65725806],\n",
       "       [0.68266125],\n",
       "       [0.6875    ],\n",
       "       [0.71774194],\n",
       "       [0.77620972],\n",
       "       [0.81814516],\n",
       "       [0.89153222],\n",
       "       [0.90120964],\n",
       "       [0.875     ],\n",
       "       [0.88709681],\n",
       "       [0.89677423],\n",
       "       [0.89072585],\n",
       "       [0.89072585],\n",
       "       [0.88991935],\n",
       "       [0.88508065],\n",
       "       [0.89556452],\n",
       "       [0.88629032],\n",
       "       [0.90524194],\n",
       "       [0.90927419],\n",
       "       [0.9072581 ],\n",
       "       [0.97016129],\n",
       "       [0.95      ],\n",
       "       [0.93951613],\n",
       "       [0.93145157],\n",
       "       [0.94395165],\n",
       "       [0.91129028],\n",
       "       [0.84677423],\n",
       "       [0.86048391],\n",
       "       [0.8516129 ],\n",
       "       [0.80806452],\n",
       "       [0.85443544],\n",
       "       [0.86129028],\n",
       "       [0.84274194],\n",
       "       [0.85000004],\n",
       "       [0.82459677],\n",
       "       [0.83064512],\n",
       "       [0.81330649],\n",
       "       [0.85887097],\n",
       "       [0.83709673],\n",
       "       [0.8431452 ],\n",
       "       [0.89112899],\n",
       "       [0.8891129 ],\n",
       "       [0.85766125],\n",
       "       [0.83830645],\n",
       "       [0.81935484],\n",
       "       [0.82943548],\n",
       "       [0.79516129],\n",
       "       [0.78790323],\n",
       "       [0.7697581 ],\n",
       "       [0.76129032],\n",
       "       [0.76693544],\n",
       "       [0.74919359],\n",
       "       [0.73790323],\n",
       "       [0.7302419 ],\n",
       "       [0.69354839],\n",
       "       [0.6608871 ],\n",
       "       [0.6983871 ],\n",
       "       [0.72217746]])"
      ]
     },
     "execution_count": 41,
     "metadata": {},
     "output_type": "execute_result"
    }
   ],
   "source": [
    "entradas = normalizador.transform(entradas)\n",
    "entradas"
   ]
  },
  {
   "cell_type": "code",
   "execution_count": 43,
   "metadata": {},
   "outputs": [],
   "source": [
    "X_teste = []\n",
    "for i in range(90, len(entradas)):\n",
    "    X_teste.append(entradas[i - 90 : i, 0])"
   ]
  },
  {
   "cell_type": "code",
   "execution_count": 44,
   "metadata": {},
   "outputs": [],
   "source": [
    "X_teste = np.array(X_teste)"
   ]
  },
  {
   "cell_type": "code",
   "execution_count": 45,
   "metadata": {},
   "outputs": [],
   "source": [
    "X_teste = np.reshape(X_teste, (X_teste.shape[0],X_teste.shape[1],1))"
   ]
  },
  {
   "cell_type": "code",
   "execution_count": 46,
   "metadata": {
    "scrolled": true
   },
   "outputs": [
    {
     "data": {
      "text/plain": [
       "array([[0.63001573],\n",
       "       [0.6263208 ],\n",
       "       [0.63776964],\n",
       "       [0.6845391 ],\n",
       "       [0.6874311 ],\n",
       "       [0.69290257],\n",
       "       [0.6785596 ],\n",
       "       [0.65767336],\n",
       "       [0.647088  ],\n",
       "       [0.6264843 ],\n",
       "       [0.6445628 ],\n",
       "       [0.6312268 ],\n",
       "       [0.61772895],\n",
       "       [0.5982149 ],\n",
       "       [0.5818186 ],\n",
       "       [0.5746287 ],\n",
       "       [0.55666083],\n",
       "       [0.5702667 ],\n",
       "       [0.57602066],\n",
       "       [0.57904434],\n",
       "       [0.590554  ],\n",
       "       [0.58642596],\n",
       "       [0.6038218 ],\n",
       "       [0.603143  ],\n",
       "       [0.60303795],\n",
       "       [0.6072135 ],\n",
       "       [0.5914669 ],\n",
       "       [0.59895504],\n",
       "       [0.6131024 ],\n",
       "       [0.6022117 ],\n",
       "       [0.5967167 ],\n",
       "       [0.60239565],\n",
       "       [0.5973534 ],\n",
       "       [0.59042096],\n",
       "       [0.61481535],\n",
       "       [0.6351011 ],\n",
       "       [0.64967966],\n",
       "       [0.64979607],\n",
       "       [0.6508448 ],\n",
       "       [0.635739  ],\n",
       "       [0.64730656],\n",
       "       [0.6584496 ],\n",
       "       [0.68000674],\n",
       "       [0.6887381 ],\n",
       "       [0.71365017],\n",
       "       [0.76397246],\n",
       "       [0.80409443],\n",
       "       [0.8658298 ],\n",
       "       [0.87846076],\n",
       "       [0.8596146 ],\n",
       "       [0.86565185],\n",
       "       [0.87124914],\n",
       "       [0.8654382 ],\n",
       "       [0.8645942 ],\n",
       "       [0.86401683],\n",
       "       [0.8604727 ],\n",
       "       [0.8684573 ],\n",
       "       [0.8623377 ],\n",
       "       [0.8765601 ],\n",
       "       [0.8807748 ],\n",
       "       [0.87967587],\n",
       "       [0.92748266],\n",
       "       [0.9137182 ],\n",
       "       [0.9058653 ],\n",
       "       [0.8989779 ],\n",
       "       [0.90680146],\n",
       "       [0.8818748 ],\n",
       "       [0.83157855],\n",
       "       [0.83615696],\n",
       "       [0.8298656 ],\n",
       "       [0.79678106],\n",
       "       [0.82941616],\n",
       "       [0.8394468 ],\n",
       "       [0.8274728 ],\n",
       "       [0.83262086],\n",
       "       [0.8138981 ],\n",
       "       [0.8154949 ],\n",
       "       [0.8020928 ],\n",
       "       [0.8352409 ],\n",
       "       [0.82247883],\n",
       "       [0.8260836 ],\n",
       "       [0.8638874 ],\n",
       "       [0.865371  ],\n",
       "       [0.8420789 ],\n",
       "       [0.82469404],\n",
       "       [0.8072202 ],\n",
       "       [0.8117734 ],\n",
       "       [0.78631026],\n",
       "       [0.7774321 ],\n",
       "       [0.76314473],\n",
       "       [0.754817  ],\n",
       "       [0.7584365 ],\n",
       "       [0.74621713],\n",
       "       [0.7358451 ],\n",
       "       [0.72857034],\n",
       "       [0.6996747 ],\n",
       "       [0.6687865 ],\n",
       "       [0.69067055]], dtype=float32)"
      ]
     },
     "execution_count": 46,
     "metadata": {},
     "output_type": "execute_result"
    }
   ],
   "source": [
    "previsoes = rede.predict(X_teste)\n",
    "previsoes"
   ]
  },
  {
   "cell_type": "code",
   "execution_count": 47,
   "metadata": {
    "scrolled": true
   },
   "outputs": [
    {
     "data": {
      "text/plain": [
       "array([[19.82439 ],\n",
       "       [19.732756],\n",
       "       [20.016687],\n",
       "       [21.176569],\n",
       "       [21.248291],\n",
       "       [21.383984],\n",
       "       [21.028278],\n",
       "       [20.5103  ],\n",
       "       [20.247782],\n",
       "       [19.73681 ],\n",
       "       [20.185158],\n",
       "       [19.854425],\n",
       "       [19.519678],\n",
       "       [19.03573 ],\n",
       "       [18.6291  ],\n",
       "       [18.450792],\n",
       "       [18.00519 ],\n",
       "       [18.342615],\n",
       "       [18.485313],\n",
       "       [18.5603  ],\n",
       "       [18.84574 ],\n",
       "       [18.743364],\n",
       "       [19.174782],\n",
       "       [19.157946],\n",
       "       [19.155342],\n",
       "       [19.258896],\n",
       "       [18.86838 ],\n",
       "       [19.054085],\n",
       "       [19.40494 ],\n",
       "       [19.134851],\n",
       "       [18.998575],\n",
       "       [19.139412],\n",
       "       [19.014364],\n",
       "       [18.84244 ],\n",
       "       [19.447422],\n",
       "       [19.950508],\n",
       "       [20.312056],\n",
       "       [20.314943],\n",
       "       [20.340952],\n",
       "       [19.966328],\n",
       "       [20.253202],\n",
       "       [20.52955 ],\n",
       "       [21.064167],\n",
       "       [21.280706],\n",
       "       [21.898525],\n",
       "       [23.146517],\n",
       "       [24.141542],\n",
       "       [25.672579],\n",
       "       [25.985826],\n",
       "       [25.518442],\n",
       "       [25.668165],\n",
       "       [25.806978],\n",
       "       [25.662867],\n",
       "       [25.641935],\n",
       "       [25.627617],\n",
       "       [25.53972 ],\n",
       "       [25.73774 ],\n",
       "       [25.585974],\n",
       "       [25.93869 ],\n",
       "       [26.043215],\n",
       "       [26.01596 ],\n",
       "       [27.20157 ],\n",
       "       [26.86021 ],\n",
       "       [26.665459],\n",
       "       [26.49465 ],\n",
       "       [26.688675],\n",
       "       [26.070494],\n",
       "       [24.823149],\n",
       "       [24.936691],\n",
       "       [24.780666],\n",
       "       [23.96017 ],\n",
       "       [24.769522],\n",
       "       [25.01828 ],\n",
       "       [24.721327],\n",
       "       [24.848997],\n",
       "       [24.384672],\n",
       "       [24.424274],\n",
       "       [24.091902],\n",
       "       [24.913975],\n",
       "       [24.597475],\n",
       "       [24.686874],\n",
       "       [25.624407],\n",
       "       [25.6612  ],\n",
       "       [25.083557],\n",
       "       [24.652412],\n",
       "       [24.219063],\n",
       "       [24.331982],\n",
       "       [23.700495],\n",
       "       [23.480316],\n",
       "       [23.12599 ],\n",
       "       [22.919462],\n",
       "       [23.009226],\n",
       "       [22.706184],\n",
       "       [22.44896 ],\n",
       "       [22.268545],\n",
       "       [21.551933],\n",
       "       [20.785906],\n",
       "       [21.32863 ]], dtype=float32)"
      ]
     },
     "execution_count": 47,
     "metadata": {},
     "output_type": "execute_result"
    }
   ],
   "source": [
    "previsoes = normalizador.inverse_transform(previsoes)\n",
    "previsoes"
   ]
  },
  {
   "cell_type": "code",
   "execution_count": 48,
   "metadata": {
    "scrolled": true
   },
   "outputs": [
    {
     "data": {
      "text/plain": [
       "array([[19.59    ],\n",
       "       [19.99    ],\n",
       "       [21.4     ],\n",
       "       [21.15    ],\n",
       "       [21.33    ],\n",
       "       [20.809999],\n",
       "       [20.26    ],\n",
       "       [20.1     ],\n",
       "       [19.5     ],\n",
       "       [20.280001],\n",
       "       [19.639999],\n",
       "       [19.32    ],\n",
       "       [18.75    ],\n",
       "       [18.370001],\n",
       "       [18.27    ],\n",
       "       [17.700001],\n",
       "       [18.35    ],\n",
       "       [18.35    ],\n",
       "       [18.41    ],\n",
       "       [18.76    ],\n",
       "       [18.5     ],\n",
       "       [19.15    ],\n",
       "       [18.950001],\n",
       "       [18.99    ],\n",
       "       [19.129999],\n",
       "       [18.559999],\n",
       "       [18.99    ],\n",
       "       [19.360001],\n",
       "       [18.870001],\n",
       "       [18.809999],\n",
       "       [19.030001],\n",
       "       [18.799999],\n",
       "       [18.629999],\n",
       "       [19.5     ],\n",
       "       [19.93    ],\n",
       "       [20.26    ],\n",
       "       [20.15    ],\n",
       "       [20.200001],\n",
       "       [19.700001],\n",
       "       [20.24    ],\n",
       "       [20.5     ],\n",
       "       [21.129999],\n",
       "       [21.25    ],\n",
       "       [22.      ],\n",
       "       [23.450001],\n",
       "       [24.49    ],\n",
       "       [26.309999],\n",
       "       [26.549999],\n",
       "       [25.9     ],\n",
       "       [26.200001],\n",
       "       [26.440001],\n",
       "       [26.290001],\n",
       "       [26.290001],\n",
       "       [26.27    ],\n",
       "       [26.15    ],\n",
       "       [26.41    ],\n",
       "       [26.18    ],\n",
       "       [26.65    ],\n",
       "       [26.75    ],\n",
       "       [26.700001],\n",
       "       [28.26    ],\n",
       "       [27.76    ],\n",
       "       [27.5     ],\n",
       "       [27.299999],\n",
       "       [27.610001],\n",
       "       [26.799999],\n",
       "       [25.200001],\n",
       "       [25.540001],\n",
       "       [25.32    ],\n",
       "       [24.24    ],\n",
       "       [25.389999],\n",
       "       [25.559999],\n",
       "       [25.1     ],\n",
       "       [25.280001],\n",
       "       [24.65    ],\n",
       "       [24.799999],\n",
       "       [24.370001],\n",
       "       [25.5     ],\n",
       "       [24.959999],\n",
       "       [25.110001],\n",
       "       [26.299999],\n",
       "       [26.25    ],\n",
       "       [25.469999],\n",
       "       [24.99    ],\n",
       "       [24.52    ],\n",
       "       [24.77    ],\n",
       "       [23.92    ],\n",
       "       [23.74    ],\n",
       "       [23.290001],\n",
       "       [23.08    ],\n",
       "       [23.219999],\n",
       "       [22.780001],\n",
       "       [22.5     ],\n",
       "       [22.309999],\n",
       "       [21.4     ],\n",
       "       [20.59    ],\n",
       "       [21.52    ],\n",
       "       [22.110001]])"
      ]
     },
     "execution_count": 48,
     "metadata": {},
     "output_type": "execute_result"
    }
   ],
   "source": [
    "preco_real_teste"
   ]
  },
  {
   "cell_type": "code",
   "execution_count": 49,
   "metadata": {},
   "outputs": [
    {
     "data": {
      "text/plain": [
       "22.405067"
      ]
     },
     "execution_count": 49,
     "metadata": {},
     "output_type": "execute_result"
    }
   ],
   "source": [
    "previsoes.mean()"
   ]
  },
  {
   "cell_type": "code",
   "execution_count": 50,
   "metadata": {},
   "outputs": [
    {
     "data": {
      "text/plain": [
       "22.622449020408162"
      ]
     },
     "execution_count": 50,
     "metadata": {},
     "output_type": "execute_result"
    }
   ],
   "source": [
    "preco_real_teste.mean()"
   ]
  },
  {
   "cell_type": "code",
   "execution_count": 53,
   "metadata": {},
   "outputs": [
    {
     "data": {
      "text/plain": [
       "0.2173815765605056"
      ]
     },
     "execution_count": 53,
     "metadata": {},
     "output_type": "execute_result"
    }
   ],
   "source": [
    "preco_real_teste.mean() - previsoes.mean()"
   ]
  },
  {
   "cell_type": "code",
   "execution_count": 62,
   "metadata": {},
   "outputs": [
    {
     "data": {
      "image/png": "[encoded data removed]",
      "text/plain": [
       "<Figure size 432x288 with 1 Axes>"
      ]
     },
     "metadata": {},
     "output_type": "display_data"
    }
   ],
   "source": [
    "plt.plot(preco_real_teste, color='red', label= 'Preço real')\n",
    "plt.plot(previsoes, color='blue', label='Previsões')\n",
    "plt.title('Previsões  preço das ações')\n",
    "plt.xlabel('Tempo')\n",
    "plt.ylabel('Valor Yahoo')\n",
    "plt.legend()\n",
    "plt.show()"
   ]
  },
  {
   "cell_type": "code",
   "execution_count": null,
   "metadata": {},
   "outputs": [],
   "source": []
  },
  {
   "cell_type": "code",
   "execution_count": null,
   "metadata": {},
   "outputs": [],
   "source": []
  },
  {
   "cell_type": "code",
   "execution_count": null,
   "metadata": {},
   "outputs": [],
   "source": []
  }
 ],
 "metadata": {
  "kernelspec": {
   "display_name": "Python 3",
   "language": "python",
   "name": "python3"
  },
  "language_info": {
   "codemirror_mode": {
    "name": "ipython",
    "version": 3
   },
   "file_extension": ".py",
   "mimetype": "text/x-python",
   "name": "python",
   "nbconvert_exporter": "python",
   "pygments_lexer": "ipython3",
   "version": "3.6.5"
  }
 },
 "nbformat": 4,
 "nbformat_minor": 2
}
