{
 "cells": [
  {
   "cell_type": "code",
   "execution_count": 1,
   "metadata": {},
   "outputs": [
    {
     "name": "stderr",
     "output_type": "stream",
     "text": [
      "/home/alison/.pyenv/versions/anaconda3-5.2.0/lib/python3.6/site-packages/h5py/__init__.py:36: FutureWarning: Conversion of the second argument of issubdtype from `float` to `np.floating` is deprecated. In future, it will be treated as `np.float64 == np.dtype(float).type`.\n",
      "  from ._conv import register_converters as _register_converters\n",
      "Using TensorFlow backend.\n"
     ]
    }
   ],
   "source": [
    "import pandas as pd\n",
    "import keras\n",
    "from keras.models import Sequential\n",
    "from keras.layers import Dense, Dropout\n",
    "from keras.wrappers.scikit_learn import KerasClassifier\n",
    "from sklearn.model_selection import GridSearchCV"
   ]
  },
  {
   "cell_type": "code",
   "execution_count": 2,
   "metadata": {},
   "outputs": [],
   "source": [
    "previsores = pd.read_csv('../datasets/entradas-breast.csv')\n",
    "classe = pd.read_csv('../datasets/saidas-breast.csv')"
   ]
  },
  {
   "cell_type": "code",
   "execution_count": 3,
   "metadata": {},
   "outputs": [],
   "source": [
    "def criarRede(optimizer, loos, kernel_initializer, activation, neurons):\n",
    "    # construindo a primeira camada oculta e a definição da camada de entrada\n",
    "    # aqui eu posso colocar um for para criar quantas camadas ocultas eu queira\n",
    "    classificador = Sequential()\n",
    "\n",
    "    # \n",
    "    for camada in range(3):\n",
    "        classificador.add(Dense(units = neurons, \n",
    "                                activation = activation,\n",
    "                                kernel_initializer = kernel_initializer,\n",
    "                                input_dim = 30))\n",
    "    # camada de saída\n",
    "    classificador.add(Dropout(0.2))\n",
    "    # aqui usamos a função sigmoid por que o esultado esperado é 0 ou 1\n",
    "    classificador.add(Dense(units= 1, activation='sigmoid'))\n",
    "    # configurando a rede neural\n",
    "    classificador.compile(optimizer = optimizer, loss = loos,metrics = ['binary_accuracy'])\n",
    "    \n",
    "    return classificador"
   ]
  },
  {
   "cell_type": "code",
   "execution_count": 4,
   "metadata": {},
   "outputs": [],
   "source": [
    "classificador = KerasClassifier(build_fn=criarRede)"
   ]
  },
  {
   "cell_type": "code",
   "execution_count": 5,
   "metadata": {},
   "outputs": [],
   "source": [
    "parametros = {'batch_size':[10,30],\n",
    "             'epochs': [1, 1],\n",
    "             'optimizer': ['adam', 'sgd'],\n",
    "             'loos' : ['binary_crossentropy', 'hinge'],\n",
    "             'kernel_initializer' : ['random_uniform', 'normal'],\n",
    "             'activation' : ['relu', 'tanh'],\n",
    "             'neurons':[16,8]}"
   ]
  },
  {
   "cell_type": "code",
   "execution_count": 6,
   "metadata": {},
   "outputs": [],
   "source": [
    "grid_search = GridSearchCV(estimator=classificador,\n",
    "                          param_grid = parametros,\n",
    "                          scoring = 'accuracy',\n",
    "                          cv = 5)"
   ]
  },
  {
   "cell_type": "code",
   "execution_count": null,
   "metadata": {
    "scrolled": true
   },
   "outputs": [
    {
     "name": "stdout",
     "output_type": "stream",
     "text": [
      "Epoch 1/1\n",
      "455/455 [==============================] - 0s 777us/step - loss: 0.5669 - binary_accuracy: 0.6308\n",
      "Epoch 1/1\n",
      "455/455 [==============================] - 0s 814us/step - loss: 0.6083 - binary_accuracy: 0.6154\n",
      "Epoch 1/1\n",
      "455/455 [==============================] - 0s 895us/step - loss: 0.6132 - binary_accuracy: 0.6418\n",
      "Epoch 1/1\n",
      "455/455 [==============================] - 0s 985us/step - loss: 0.6113 - binary_accuracy: 0.6330\n",
      "Epoch 1/1\n",
      "456/456 [==============================] - 0s 1ms/step - loss: 0.6234 - binary_accuracy: 0.6075\n",
      "Epoch 1/1\n",
      "455/455 [==============================] - 0s 907us/step - loss: 0.6528 - binary_accuracy: 0.6637\n",
      "Epoch 1/1\n",
      "455/455 [==============================] - 0s 968us/step - loss: 0.6484 - binary_accuracy: 0.6220\n",
      "Epoch 1/1\n",
      "455/455 [==============================] - 0s 1ms/step - loss: 1.4724 - binary_accuracy: 0.6154\n",
      "Epoch 1/1\n",
      "455/455 [==============================] - 0s 1ms/step - loss: 0.6461 - binary_accuracy: 0.6066\n",
      "Epoch 1/1\n",
      "456/456 [==============================] - 1s 1ms/step - loss: 0.6423 - binary_accuracy: 0.5724\n",
      "Epoch 1/1\n",
      "455/455 [==============================] - 1s 1ms/step - loss: 0.6465 - binary_accuracy: 0.5868\n",
      "Epoch 1/1\n",
      "455/455 [==============================] - 1s 2ms/step - loss: 0.6677 - binary_accuracy: 0.6418\n",
      "Epoch 1/1\n",
      "455/455 [==============================] - 1s 2ms/step - loss: 0.6376 - binary_accuracy: 0.6352\n",
      "Epoch 1/1\n",
      "455/455 [==============================] - 1s 2ms/step - loss: 0.7227 - binary_accuracy: 0.5736\n",
      "Epoch 1/1\n",
      "456/456 [==============================] - 1s 2ms/step - loss: 0.6487 - binary_accuracy: 0.5526\n",
      "Epoch 1/1\n",
      "455/455 [==============================] - 1s 2ms/step - loss: 0.6330 - binary_accuracy: 0.6835\n",
      "Epoch 1/1\n",
      "455/455 [==============================] - 1s 2ms/step - loss: 0.6136 - binary_accuracy: 0.6484\n",
      "Epoch 1/1\n",
      "455/455 [==============================] - 1s 2ms/step - loss: 0.6186 - binary_accuracy: 0.6088\n",
      "Epoch 1/1\n",
      "455/455 [==============================] - 1s 2ms/step - loss: 0.6501 - binary_accuracy: 0.6110\n",
      "Epoch 1/1\n",
      "456/456 [==============================] - 1s 2ms/step - loss: 0.6299 - binary_accuracy: 0.5570\n",
      "Epoch 1/1\n",
      "455/455 [==============================] - 1s 2ms/step - loss: 0.3913 - binary_accuracy: 0.6418\n",
      "Epoch 1/1\n",
      "455/455 [==============================] - 1s 2ms/step - loss: 0.4396 - binary_accuracy: 0.6308\n",
      "Epoch 1/1\n",
      "455/455 [==============================] - 1s 2ms/step - loss: 0.4126 - binary_accuracy: 0.6220\n",
      "Epoch 1/1\n",
      "455/455 [==============================] - 1s 2ms/step - loss: 0.4445 - binary_accuracy: 0.5934\n",
      "Epoch 1/1\n",
      "456/456 [==============================] - 1s 2ms/step - loss: 0.4461 - binary_accuracy: 0.5921\n",
      "Epoch 1/1\n",
      "455/455 [==============================] - 1s 2ms/step - loss: 0.3777 - binary_accuracy: 0.6681\n",
      "Epoch 1/1\n",
      "455/455 [==============================] - 1s 2ms/step - loss: 0.4131 - binary_accuracy: 0.6308\n",
      "Epoch 1/1\n",
      "455/455 [==============================] - 1s 2ms/step - loss: 0.4385 - binary_accuracy: 0.6154\n",
      "Epoch 1/1\n",
      "455/455 [==============================] - 1s 2ms/step - loss: 0.4243 - binary_accuracy: 0.5890\n",
      "Epoch 1/1\n",
      "456/456 [==============================] - 1s 2ms/step - loss: 0.4418 - binary_accuracy: 0.5877\n",
      "Epoch 1/1\n",
      "455/455 [==============================] - 1s 3ms/step - loss: 0.5645 - binary_accuracy: 0.6879\n",
      "Epoch 1/1\n",
      "455/455 [==============================] - 1s 3ms/step - loss: 0.4140 - binary_accuracy: 0.6396\n",
      "Epoch 1/1\n",
      "455/455 [==============================] - 1s 3ms/step - loss: 0.4525 - binary_accuracy: 0.6154\n",
      "Epoch 1/1\n",
      "455/455 [==============================] - 1s 3ms/step - loss: 0.4460 - binary_accuracy: 0.5978\n",
      "Epoch 1/1\n",
      "456/456 [==============================] - 1s 3ms/step - loss: 0.5069 - binary_accuracy: 0.5855\n",
      "Epoch 1/1\n",
      "455/455 [==============================] - 1s 3ms/step - loss: 0.3585 - binary_accuracy: 0.6835\n",
      "Epoch 1/1\n",
      "455/455 [==============================] - 1s 3ms/step - loss: 0.4023 - binary_accuracy: 0.6264\n",
      "Epoch 1/1\n",
      "455/455 [==============================] - 1s 3ms/step - loss: 0.4331 - binary_accuracy: 0.6176\n",
      "Epoch 1/1\n",
      "455/455 [==============================] - 1s 3ms/step - loss: 0.4637 - binary_accuracy: 0.5978\n",
      "Epoch 1/1\n",
      "456/456 [==============================] - 1s 3ms/step - loss: 0.5079 - binary_accuracy: 0.5811\n",
      "Epoch 1/1\n",
      "455/455 [==============================] - 2s 4ms/step - loss: 0.7051 - binary_accuracy: 0.5275 \n",
      "Epoch 1/1\n",
      "455/455 [==============================] - 2s 4ms/step - loss: 0.8538 - binary_accuracy: 0.5846\n",
      "Epoch 1/1\n",
      "455/455 [==============================] - 2s 4ms/step - loss: 0.7292 - binary_accuracy: 0.6418\n",
      "Epoch 1/1\n",
      "455/455 [==============================] - 2s 4ms/step - loss: 0.6415 - binary_accuracy: 0.5912\n",
      "Epoch 1/1\n",
      "456/456 [==============================] - 2s 4ms/step - loss: 0.6599 - binary_accuracy: 0.5504\n",
      "Epoch 1/1\n",
      "455/455 [==============================] - 2s 4ms/step - loss: 0.7223 - binary_accuracy: 0.6549\n",
      "Epoch 1/1\n",
      "455/455 [==============================] - 2s 4ms/step - loss: 1.9968 - binary_accuracy: 0.5780\n",
      "Epoch 1/1\n",
      "455/455 [==============================] - 2s 4ms/step - loss: 0.7465 - binary_accuracy: 0.6154\n",
      "Epoch 1/1\n",
      "455/455 [==============================] - 2s 4ms/step - loss: 4.1726 - binary_accuracy: 0.5912\n",
      "Epoch 1/1\n",
      "456/456 [==============================] - 2s 4ms/step - loss: 9.2787 - binary_accuracy: 0.4189\n",
      "Epoch 1/1\n"
     ]
    }
   ],
   "source": [
    "grid_search = grid_search.fit(previsores, classe)\n"
   ]
  },
  {
   "cell_type": "code",
   "execution_count": null,
   "metadata": {},
   "outputs": [],
   "source": [
    "melhores_parametros = grid_search.best_params_"
   ]
  },
  {
   "cell_type": "code",
   "execution_count": null,
   "metadata": {},
   "outputs": [],
   "source": [
    "melhor_precisao = grid_search.best_score_"
   ]
  }
 ],
 "metadata": {
  "kernelspec": {
   "display_name": "Python 3",
   "language": "python",
   "name": "python3"
  },
  "language_info": {
   "codemirror_mode": {
    "name": "ipython",
    "version": 3
   },
   "file_extension": ".py",
   "mimetype": "text/x-python",
   "name": "python",
   "nbconvert_exporter": "python",
   "pygments_lexer": "ipython3",
   "version": "3.6.4"
  }
 },
 "nbformat": 4,
 "nbformat_minor": 2
}
